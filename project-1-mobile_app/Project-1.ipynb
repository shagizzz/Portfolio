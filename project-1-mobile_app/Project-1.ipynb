{
  "metadata": {
    "kernelspec": {
      "name": "python",
      "display_name": "Python (Pyodide)",
      "language": "python"
    },
    "language_info": {
      "codemirror_mode": {
        "name": "python",
        "version": 3
      },
      "file_extension": ".py",
      "mimetype": "text/x-python",
      "name": "python",
      "nbconvert_exporter": "python",
      "pygments_lexer": "ipython3",
      "version": "3.8"
    },
    "ExecuteTimeLog": [
      {
        "duration": 424,
        "start_time": "2025-05-18T15:10:48.618Z"
      },
      {
        "duration": 3,
        "start_time": "2025-05-18T15:11:01.060Z"
      },
      {
        "duration": 82,
        "start_time": "2025-05-18T15:11:46.716Z"
      },
      {
        "duration": 17,
        "start_time": "2025-05-18T15:11:51.092Z"
      },
      {
        "duration": 451,
        "start_time": "2025-05-19T20:41:36.511Z"
      },
      {
        "duration": 300,
        "start_time": "2025-05-19T20:41:37.492Z"
      },
      {
        "duration": 14,
        "start_time": "2025-05-19T20:41:48.136Z"
      },
      {
        "duration": 281,
        "start_time": "2025-05-19T20:42:49.786Z"
      },
      {
        "duration": 58,
        "start_time": "2025-05-19T20:43:12.969Z"
      },
      {
        "duration": 71,
        "start_time": "2025-05-19T20:45:18.964Z"
      },
      {
        "duration": 60,
        "start_time": "2025-05-19T20:45:45.679Z"
      },
      {
        "duration": 67,
        "start_time": "2025-05-19T20:46:01.182Z"
      },
      {
        "duration": 301,
        "start_time": "2025-05-19T20:46:37.902Z"
      },
      {
        "duration": 62,
        "start_time": "2025-05-19T20:49:27.567Z"
      },
      {
        "duration": 7,
        "start_time": "2025-05-19T20:49:43.783Z"
      },
      {
        "duration": 17,
        "start_time": "2025-05-19T20:50:20.165Z"
      },
      {
        "duration": 5,
        "start_time": "2025-05-19T20:50:23.194Z"
      },
      {
        "duration": 3,
        "start_time": "2025-05-19T20:50:58.790Z"
      },
      {
        "duration": 2,
        "start_time": "2025-05-19T20:51:00.455Z"
      },
      {
        "duration": 35,
        "start_time": "2025-05-19T20:51:10.160Z"
      },
      {
        "duration": 5,
        "start_time": "2025-05-19T20:51:11.232Z"
      },
      {
        "duration": 14,
        "start_time": "2025-05-19T20:51:26.854Z"
      },
      {
        "duration": 6,
        "start_time": "2025-05-19T20:51:27.433Z"
      },
      {
        "duration": 16,
        "start_time": "2025-05-19T20:59:30.262Z"
      },
      {
        "duration": 4,
        "start_time": "2025-05-19T21:05:09.842Z"
      },
      {
        "duration": 7,
        "start_time": "2025-05-19T21:05:56.050Z"
      },
      {
        "duration": 3,
        "start_time": "2025-05-19T21:06:02.306Z"
      },
      {
        "duration": 6,
        "start_time": "2025-05-19T21:10:40.543Z"
      },
      {
        "duration": 22,
        "start_time": "2025-05-19T21:11:30.710Z"
      },
      {
        "duration": 332,
        "start_time": "2025-05-19T21:51:21.636Z"
      },
      {
        "duration": 18,
        "start_time": "2025-05-19T22:07:09.187Z"
      },
      {
        "duration": 2,
        "start_time": "2025-05-19T22:07:25.124Z"
      },
      {
        "duration": 4,
        "start_time": "2025-05-19T22:07:29.646Z"
      },
      {
        "duration": 5,
        "start_time": "2025-05-19T22:07:42.044Z"
      },
      {
        "duration": 44,
        "start_time": "2025-05-19T22:42:06.638Z"
      },
      {
        "duration": 23,
        "start_time": "2025-05-19T22:44:15.151Z"
      },
      {
        "duration": 453,
        "start_time": "2025-05-20T22:53:46.713Z"
      },
      {
        "duration": 170,
        "start_time": "2025-05-20T22:53:47.167Z"
      },
      {
        "duration": 342,
        "start_time": "2025-05-20T22:53:47.339Z"
      },
      {
        "duration": 18,
        "start_time": "2025-05-20T22:53:47.683Z"
      },
      {
        "duration": 14,
        "start_time": "2025-05-20T22:53:47.703Z"
      },
      {
        "duration": 8,
        "start_time": "2025-05-20T22:53:47.718Z"
      },
      {
        "duration": 38,
        "start_time": "2025-05-20T22:53:47.727Z"
      },
      {
        "duration": 43,
        "start_time": "2025-05-20T22:53:47.766Z"
      },
      {
        "duration": 16,
        "start_time": "2025-05-20T22:54:09.700Z"
      },
      {
        "duration": 58,
        "start_time": "2025-05-20T23:12:11.211Z"
      },
      {
        "duration": 26,
        "start_time": "2025-05-20T23:12:25.005Z"
      },
      {
        "duration": 82,
        "start_time": "2025-05-20T23:14:19.881Z"
      },
      {
        "duration": 16,
        "start_time": "2025-05-20T23:14:24.050Z"
      },
      {
        "duration": 27,
        "start_time": "2025-05-20T23:14:39.717Z"
      },
      {
        "duration": 10,
        "start_time": "2025-05-20T23:57:20.697Z"
      },
      {
        "duration": 18,
        "start_time": "2025-05-20T23:57:29.954Z"
      },
      {
        "duration": 30,
        "start_time": "2025-05-20T23:58:41.489Z"
      },
      {
        "duration": 622,
        "start_time": "2025-05-20T23:59:46.167Z"
      },
      {
        "duration": 5,
        "start_time": "2025-05-21T00:00:16.131Z"
      },
      {
        "duration": 4,
        "start_time": "2025-05-21T00:01:28.017Z"
      },
      {
        "duration": 14,
        "start_time": "2025-05-21T00:02:05.390Z"
      },
      {
        "duration": 1484,
        "start_time": "2025-05-21T00:02:15.992Z"
      },
      {
        "duration": 1475,
        "start_time": "2025-05-21T00:02:20.344Z"
      },
      {
        "duration": 4,
        "start_time": "2025-05-21T00:02:32.158Z"
      },
      {
        "duration": 11,
        "start_time": "2025-05-21T00:02:34.672Z"
      },
      {
        "duration": 4,
        "start_time": "2025-05-21T00:02:58.870Z"
      },
      {
        "duration": 11,
        "start_time": "2025-05-21T00:03:02.983Z"
      },
      {
        "duration": 4,
        "start_time": "2025-05-21T00:03:16.503Z"
      },
      {
        "duration": 6,
        "start_time": "2025-05-21T00:03:45.425Z"
      },
      {
        "duration": 21,
        "start_time": "2025-05-21T00:03:55.275Z"
      },
      {
        "duration": 449,
        "start_time": "2025-05-21T20:07:10.188Z"
      },
      {
        "duration": 84,
        "start_time": "2025-05-21T20:07:10.638Z"
      },
      {
        "duration": 616,
        "start_time": "2025-05-21T20:07:10.723Z"
      },
      {
        "duration": 18,
        "start_time": "2025-05-21T20:07:11.341Z"
      },
      {
        "duration": 8,
        "start_time": "2025-05-21T20:07:11.360Z"
      },
      {
        "duration": 9,
        "start_time": "2025-05-21T20:07:11.370Z"
      },
      {
        "duration": 24,
        "start_time": "2025-05-21T20:07:11.380Z"
      },
      {
        "duration": 58,
        "start_time": "2025-05-21T20:07:11.405Z"
      },
      {
        "duration": 681,
        "start_time": "2025-05-21T20:07:11.465Z"
      },
      {
        "duration": 10,
        "start_time": "2025-05-21T20:07:12.149Z"
      },
      {
        "duration": 36,
        "start_time": "2025-05-21T20:31:39.539Z"
      },
      {
        "duration": 3,
        "start_time": "2025-05-21T22:51:59.561Z"
      },
      {
        "duration": 113,
        "start_time": "2025-05-21T22:51:59.566Z"
      },
      {
        "duration": 698,
        "start_time": "2025-05-21T22:51:59.681Z"
      },
      {
        "duration": 18,
        "start_time": "2025-05-21T22:52:00.380Z"
      },
      {
        "duration": 10,
        "start_time": "2025-05-21T22:52:00.400Z"
      },
      {
        "duration": 14,
        "start_time": "2025-05-21T22:52:00.411Z"
      },
      {
        "duration": 31,
        "start_time": "2025-05-21T22:52:00.427Z"
      },
      {
        "duration": 37,
        "start_time": "2025-05-21T22:52:00.459Z"
      },
      {
        "duration": 686,
        "start_time": "2025-05-21T22:52:00.498Z"
      },
      {
        "duration": 11,
        "start_time": "2025-05-21T22:52:03.745Z"
      },
      {
        "duration": 61,
        "start_time": "2025-05-21T22:55:20.091Z"
      },
      {
        "duration": 25,
        "start_time": "2025-05-21T22:55:25.668Z"
      },
      {
        "duration": 354,
        "start_time": "2025-05-21T22:55:39.425Z"
      },
      {
        "duration": 1395,
        "start_time": "2025-05-21T22:58:37.695Z"
      },
      {
        "duration": 336,
        "start_time": "2025-05-21T22:58:58.228Z"
      },
      {
        "duration": 165,
        "start_time": "2025-05-21T22:59:00.491Z"
      },
      {
        "duration": 161,
        "start_time": "2025-05-21T23:03:00.709Z"
      },
      {
        "duration": 157,
        "start_time": "2025-05-21T23:03:12.734Z"
      },
      {
        "duration": 169,
        "start_time": "2025-05-21T23:05:12.243Z"
      },
      {
        "duration": 169,
        "start_time": "2025-05-21T23:06:06.248Z"
      },
      {
        "duration": 157,
        "start_time": "2025-05-21T23:06:27.329Z"
      },
      {
        "duration": 413,
        "start_time": "2025-05-22T20:42:50.685Z"
      },
      {
        "duration": 56,
        "start_time": "2025-05-22T20:42:51.100Z"
      },
      {
        "duration": 412,
        "start_time": "2025-05-22T20:42:51.158Z"
      },
      {
        "duration": 21,
        "start_time": "2025-05-22T20:42:51.572Z"
      },
      {
        "duration": 7,
        "start_time": "2025-05-22T20:42:51.596Z"
      },
      {
        "duration": 8,
        "start_time": "2025-05-22T20:42:51.605Z"
      },
      {
        "duration": 59,
        "start_time": "2025-05-22T20:42:51.614Z"
      },
      {
        "duration": 38,
        "start_time": "2025-05-22T20:42:51.675Z"
      },
      {
        "duration": 779,
        "start_time": "2025-05-22T20:42:51.715Z"
      },
      {
        "duration": 11,
        "start_time": "2025-05-22T20:42:52.496Z"
      },
      {
        "duration": 42,
        "start_time": "2025-05-22T20:42:52.509Z"
      },
      {
        "duration": 409,
        "start_time": "2025-05-22T20:42:52.552Z"
      },
      {
        "duration": 184,
        "start_time": "2025-05-22T20:42:52.963Z"
      },
      {
        "duration": 28,
        "start_time": "2025-05-22T22:08:59.600Z"
      },
      {
        "duration": 22,
        "start_time": "2025-05-22T22:09:52.307Z"
      },
      {
        "duration": 26,
        "start_time": "2025-05-22T22:10:01.400Z"
      },
      {
        "duration": 24,
        "start_time": "2025-05-22T22:10:41.536Z"
      },
      {
        "duration": 28,
        "start_time": "2025-05-22T22:11:16.998Z"
      },
      {
        "duration": 26,
        "start_time": "2025-05-22T22:11:40.865Z"
      },
      {
        "duration": 27,
        "start_time": "2025-05-22T22:11:46.234Z"
      },
      {
        "duration": 24,
        "start_time": "2025-05-22T22:11:49.628Z"
      },
      {
        "duration": 19,
        "start_time": "2025-05-22T22:12:29.940Z"
      },
      {
        "duration": 16,
        "start_time": "2025-05-22T22:14:34.220Z"
      },
      {
        "duration": 68,
        "start_time": "2025-05-22T23:29:12.993Z"
      },
      {
        "duration": 13,
        "start_time": "2025-05-22T23:29:34.607Z"
      },
      {
        "duration": 426,
        "start_time": "2025-05-22T23:33:30.323Z"
      },
      {
        "duration": 423,
        "start_time": "2025-05-22T23:35:04.953Z"
      },
      {
        "duration": 439,
        "start_time": "2025-05-23T22:38:15.085Z"
      },
      {
        "duration": 384,
        "start_time": "2025-05-23T22:38:15.526Z"
      },
      {
        "duration": 460,
        "start_time": "2025-05-23T22:38:15.912Z"
      },
      {
        "duration": 27,
        "start_time": "2025-05-23T22:38:16.376Z"
      },
      {
        "duration": 7,
        "start_time": "2025-05-23T22:38:16.405Z"
      },
      {
        "duration": 11,
        "start_time": "2025-05-23T22:38:16.413Z"
      },
      {
        "duration": 24,
        "start_time": "2025-05-23T22:38:16.425Z"
      },
      {
        "duration": 66,
        "start_time": "2025-05-23T22:38:16.450Z"
      },
      {
        "duration": 818,
        "start_time": "2025-05-23T22:38:16.517Z"
      },
      {
        "duration": 12,
        "start_time": "2025-05-23T22:38:17.336Z"
      },
      {
        "duration": 43,
        "start_time": "2025-05-23T22:38:17.349Z"
      },
      {
        "duration": 401,
        "start_time": "2025-05-23T22:38:17.393Z"
      },
      {
        "duration": 197,
        "start_time": "2025-05-23T22:38:17.796Z"
      },
      {
        "duration": 506,
        "start_time": "2025-05-23T22:38:17.996Z"
      },
      {
        "duration": 33,
        "start_time": "2025-05-23T22:48:01.731Z"
      },
      {
        "duration": 38,
        "start_time": "2025-05-23T22:50:29.254Z"
      },
      {
        "duration": 414,
        "start_time": "2025-05-26T18:39:19.875Z"
      },
      {
        "duration": 140,
        "start_time": "2025-05-26T18:39:20.291Z"
      },
      {
        "duration": 435,
        "start_time": "2025-05-26T18:39:20.433Z"
      },
      {
        "duration": 20,
        "start_time": "2025-05-26T18:39:20.870Z"
      },
      {
        "duration": 16,
        "start_time": "2025-05-26T18:39:20.892Z"
      },
      {
        "duration": 44,
        "start_time": "2025-05-26T18:39:20.910Z"
      },
      {
        "duration": 46,
        "start_time": "2025-05-26T18:39:20.956Z"
      },
      {
        "duration": 36,
        "start_time": "2025-05-26T18:39:21.004Z"
      },
      {
        "duration": 757,
        "start_time": "2025-05-26T18:39:21.042Z"
      },
      {
        "duration": 13,
        "start_time": "2025-05-26T18:39:21.801Z"
      },
      {
        "duration": 50,
        "start_time": "2025-05-26T18:39:21.816Z"
      },
      {
        "duration": 398,
        "start_time": "2025-05-26T18:39:21.868Z"
      },
      {
        "duration": 201,
        "start_time": "2025-05-26T18:39:22.268Z"
      },
      {
        "duration": 471,
        "start_time": "2025-05-26T18:39:22.470Z"
      },
      {
        "duration": 34,
        "start_time": "2025-05-26T18:39:22.943Z"
      },
      {
        "duration": 68,
        "start_time": "2025-05-26T18:42:08.371Z"
      },
      {
        "duration": 2,
        "start_time": "2025-05-26T18:42:11.966Z"
      },
      {
        "duration": 62,
        "start_time": "2025-05-26T18:42:11.970Z"
      },
      {
        "duration": 445,
        "start_time": "2025-05-26T18:42:12.034Z"
      },
      {
        "duration": 21,
        "start_time": "2025-05-26T18:42:12.480Z"
      },
      {
        "duration": 6,
        "start_time": "2025-05-26T18:42:12.503Z"
      },
      {
        "duration": 27,
        "start_time": "2025-05-26T18:42:12.510Z"
      },
      {
        "duration": 25,
        "start_time": "2025-05-26T18:42:12.539Z"
      },
      {
        "duration": 36,
        "start_time": "2025-05-26T18:42:12.566Z"
      },
      {
        "duration": 744,
        "start_time": "2025-05-26T18:42:12.604Z"
      },
      {
        "duration": 12,
        "start_time": "2025-05-26T18:42:13.349Z"
      },
      {
        "duration": 36,
        "start_time": "2025-05-26T18:42:13.363Z"
      },
      {
        "duration": 380,
        "start_time": "2025-05-26T18:42:13.401Z"
      },
      {
        "duration": 187,
        "start_time": "2025-05-26T18:42:13.782Z"
      },
      {
        "duration": 508,
        "start_time": "2025-05-26T18:42:13.972Z"
      },
      {
        "duration": 10,
        "start_time": "2025-05-26T18:42:14.483Z"
      },
      {
        "duration": 35,
        "start_time": "2025-05-26T18:42:22.696Z"
      },
      {
        "duration": 9,
        "start_time": "2025-05-26T18:43:34.803Z"
      },
      {
        "duration": 24,
        "start_time": "2025-05-26T18:43:44.376Z"
      },
      {
        "duration": 14,
        "start_time": "2025-05-26T18:44:00.696Z"
      },
      {
        "duration": 16,
        "start_time": "2025-05-26T18:45:14.202Z"
      },
      {
        "duration": 43,
        "start_time": "2025-05-27T09:22:21.950Z"
      },
      {
        "duration": 3,
        "start_time": "2025-05-27T10:28:58.084Z"
      },
      {
        "duration": 1307,
        "start_time": "2025-05-27T10:30:00.104Z"
      },
      {
        "duration": 9,
        "start_time": "2025-05-27T10:30:12.287Z"
      },
      {
        "duration": 19,
        "start_time": "2025-05-27T10:30:26.193Z"
      },
      {
        "duration": 7,
        "start_time": "2025-05-27T10:32:15.974Z"
      },
      {
        "duration": 19,
        "start_time": "2025-05-27T10:32:46.294Z"
      },
      {
        "duration": 7,
        "start_time": "2025-05-27T10:32:53.817Z"
      },
      {
        "duration": 3,
        "start_time": "2025-05-27T10:33:08.747Z"
      },
      {
        "duration": 80,
        "start_time": "2025-05-27T10:33:08.752Z"
      },
      {
        "duration": 2418,
        "start_time": "2025-05-27T10:33:08.834Z"
      },
      {
        "duration": 21,
        "start_time": "2025-05-27T10:33:11.254Z"
      },
      {
        "duration": 8,
        "start_time": "2025-05-27T10:33:11.278Z"
      },
      {
        "duration": 8,
        "start_time": "2025-05-27T10:33:11.288Z"
      },
      {
        "duration": 55,
        "start_time": "2025-05-27T10:33:11.298Z"
      },
      {
        "duration": 38,
        "start_time": "2025-05-27T10:33:11.355Z"
      },
      {
        "duration": 741,
        "start_time": "2025-05-27T10:33:11.395Z"
      },
      {
        "duration": 13,
        "start_time": "2025-05-27T10:33:12.138Z"
      },
      {
        "duration": 31,
        "start_time": "2025-05-27T10:33:12.153Z"
      },
      {
        "duration": 384,
        "start_time": "2025-05-27T10:33:12.186Z"
      },
      {
        "duration": 197,
        "start_time": "2025-05-27T10:33:12.572Z"
      },
      {
        "duration": 468,
        "start_time": "2025-05-27T10:33:12.771Z"
      },
      {
        "duration": 40,
        "start_time": "2025-05-27T10:33:13.241Z"
      },
      {
        "duration": 6,
        "start_time": "2025-05-27T10:33:13.283Z"
      },
      {
        "duration": 34,
        "start_time": "2025-05-27T10:33:13.290Z"
      },
      {
        "duration": 468,
        "start_time": "2025-05-27T10:35:24.437Z"
      },
      {
        "duration": 462,
        "start_time": "2025-05-27T10:37:43.333Z"
      },
      {
        "duration": 455,
        "start_time": "2025-05-27T10:37:50.911Z"
      },
      {
        "duration": 462,
        "start_time": "2025-05-27T10:38:02.614Z"
      },
      {
        "duration": 460,
        "start_time": "2025-05-27T10:40:28.315Z"
      },
      {
        "duration": 457,
        "start_time": "2025-05-27T10:40:37.123Z"
      },
      {
        "duration": 516,
        "start_time": "2025-05-27T10:40:41.589Z"
      },
      {
        "duration": 466,
        "start_time": "2025-05-27T10:41:12.341Z"
      },
      {
        "duration": 3,
        "start_time": "2025-05-27T10:43:41.606Z"
      },
      {
        "duration": 15,
        "start_time": "2025-05-27T10:44:24.451Z"
      },
      {
        "duration": 8,
        "start_time": "2025-05-27T10:45:02.749Z"
      },
      {
        "duration": 4,
        "start_time": "2025-05-27T10:45:33.650Z"
      },
      {
        "duration": 15,
        "start_time": "2025-05-27T10:45:34.535Z"
      },
      {
        "duration": 8,
        "start_time": "2025-05-27T10:45:35.535Z"
      },
      {
        "duration": 3,
        "start_time": "2025-05-27T10:45:50.788Z"
      },
      {
        "duration": 15,
        "start_time": "2025-05-27T10:45:51.148Z"
      },
      {
        "duration": 7,
        "start_time": "2025-05-27T10:45:51.563Z"
      },
      {
        "duration": 3,
        "start_time": "2025-05-27T10:49:27.414Z"
      },
      {
        "duration": 15,
        "start_time": "2025-05-27T10:49:59.970Z"
      },
      {
        "duration": 8,
        "start_time": "2025-05-27T10:50:00.601Z"
      },
      {
        "duration": 3,
        "start_time": "2025-05-27T10:50:24.409Z"
      },
      {
        "duration": 15,
        "start_time": "2025-05-27T10:50:24.850Z"
      },
      {
        "duration": 7,
        "start_time": "2025-05-27T10:50:25.202Z"
      },
      {
        "duration": 3,
        "start_time": "2025-05-27T10:50:31.280Z"
      },
      {
        "duration": 14,
        "start_time": "2025-05-27T10:50:31.624Z"
      },
      {
        "duration": 8,
        "start_time": "2025-05-27T10:50:31.940Z"
      },
      {
        "duration": 4,
        "start_time": "2025-05-27T10:50:44.382Z"
      },
      {
        "duration": 13,
        "start_time": "2025-05-27T10:50:44.653Z"
      },
      {
        "duration": 7,
        "start_time": "2025-05-27T10:50:44.972Z"
      },
      {
        "duration": 2,
        "start_time": "2025-05-27T10:53:03.753Z"
      },
      {
        "duration": 98,
        "start_time": "2025-05-27T10:53:03.758Z"
      },
      {
        "duration": 306,
        "start_time": "2025-05-27T10:53:03.858Z"
      },
      {
        "duration": 21,
        "start_time": "2025-05-27T10:53:04.166Z"
      },
      {
        "duration": 35,
        "start_time": "2025-05-27T10:53:04.190Z"
      },
      {
        "duration": 20,
        "start_time": "2025-05-27T10:53:04.227Z"
      },
      {
        "duration": 45,
        "start_time": "2025-05-27T10:53:04.249Z"
      },
      {
        "duration": 46,
        "start_time": "2025-05-27T10:53:04.297Z"
      },
      {
        "duration": 725,
        "start_time": "2025-05-27T10:53:04.345Z"
      },
      {
        "duration": 12,
        "start_time": "2025-05-27T10:53:05.072Z"
      },
      {
        "duration": 47,
        "start_time": "2025-05-27T10:53:05.087Z"
      },
      {
        "duration": 401,
        "start_time": "2025-05-27T10:53:05.136Z"
      },
      {
        "duration": 206,
        "start_time": "2025-05-27T10:53:05.541Z"
      },
      {
        "duration": 3,
        "start_time": "2025-05-27T10:53:05.750Z"
      },
      {
        "duration": 562,
        "start_time": "2025-05-27T10:53:05.755Z"
      },
      {
        "duration": 4,
        "start_time": "2025-05-27T10:53:06.319Z"
      },
      {
        "duration": 134,
        "start_time": "2025-05-27T10:53:06.337Z"
      },
      {
        "duration": 113,
        "start_time": "2025-05-27T17:26:45.650Z"
      },
      {
        "duration": 3,
        "start_time": "2025-05-27T17:44:08.882Z"
      },
      {
        "duration": 57,
        "start_time": "2025-05-27T17:44:08.887Z"
      },
      {
        "duration": 264,
        "start_time": "2025-05-27T17:44:08.946Z"
      },
      {
        "duration": 24,
        "start_time": "2025-05-27T17:44:09.212Z"
      },
      {
        "duration": 13,
        "start_time": "2025-05-27T17:44:09.238Z"
      },
      {
        "duration": 24,
        "start_time": "2025-05-27T17:44:09.253Z"
      },
      {
        "duration": 29,
        "start_time": "2025-05-27T17:44:09.279Z"
      },
      {
        "duration": 173,
        "start_time": "2025-05-27T17:44:09.309Z"
      },
      {
        "duration": 8,
        "start_time": "2025-05-27T17:44:11.177Z"
      },
      {
        "duration": 260,
        "start_time": "2025-05-27T17:44:36.910Z"
      },
      {
        "duration": 1286,
        "start_time": "2025-05-27T17:44:37.229Z"
      },
      {
        "duration": 0,
        "start_time": "2025-05-27T17:44:38.516Z"
      },
      {
        "duration": 0,
        "start_time": "2025-05-27T17:44:38.518Z"
      },
      {
        "duration": 0,
        "start_time": "2025-05-27T17:44:38.520Z"
      },
      {
        "duration": 0,
        "start_time": "2025-05-27T17:44:38.521Z"
      },
      {
        "duration": 0,
        "start_time": "2025-05-27T17:44:38.537Z"
      },
      {
        "duration": 14,
        "start_time": "2025-05-27T17:44:38.769Z"
      },
      {
        "duration": 3,
        "start_time": "2025-05-27T17:44:39.102Z"
      },
      {
        "duration": 1433,
        "start_time": "2025-05-27T17:46:53.386Z"
      },
      {
        "duration": 3,
        "start_time": "2025-05-27T17:49:24.779Z"
      },
      {
        "duration": 50,
        "start_time": "2025-05-27T17:49:24.784Z"
      },
      {
        "duration": 756,
        "start_time": "2025-05-27T17:49:24.835Z"
      },
      {
        "duration": 21,
        "start_time": "2025-05-27T17:49:25.593Z"
      },
      {
        "duration": 5,
        "start_time": "2025-05-27T17:49:25.616Z"
      },
      {
        "duration": 17,
        "start_time": "2025-05-27T17:49:25.636Z"
      },
      {
        "duration": 23,
        "start_time": "2025-05-27T17:49:25.655Z"
      },
      {
        "duration": 180,
        "start_time": "2025-05-27T17:49:25.680Z"
      },
      {
        "duration": 254,
        "start_time": "2025-05-27T17:49:25.862Z"
      },
      {
        "duration": 25,
        "start_time": "2025-05-27T17:49:30.372Z"
      },
      {
        "duration": 1900,
        "start_time": "2025-05-27T17:50:16.927Z"
      },
      {
        "duration": 1892,
        "start_time": "2025-05-27T17:52:14.467Z"
      },
      {
        "duration": 3,
        "start_time": "2025-05-27T17:52:53.984Z"
      },
      {
        "duration": 59,
        "start_time": "2025-05-27T17:52:53.989Z"
      },
      {
        "duration": 280,
        "start_time": "2025-05-27T17:52:54.049Z"
      },
      {
        "duration": 22,
        "start_time": "2025-05-27T17:52:54.331Z"
      },
      {
        "duration": 75,
        "start_time": "2025-05-27T17:52:54.355Z"
      },
      {
        "duration": 15,
        "start_time": "2025-05-27T17:52:54.432Z"
      },
      {
        "duration": 30,
        "start_time": "2025-05-27T17:52:54.449Z"
      },
      {
        "duration": 16,
        "start_time": "2025-05-27T17:52:54.480Z"
      },
      {
        "duration": 0,
        "start_time": "2025-05-27T17:52:54.498Z"
      },
      {
        "duration": 0,
        "start_time": "2025-05-27T17:52:54.500Z"
      },
      {
        "duration": 0,
        "start_time": "2025-05-27T17:52:54.501Z"
      },
      {
        "duration": 0,
        "start_time": "2025-05-27T17:52:54.502Z"
      },
      {
        "duration": 0,
        "start_time": "2025-05-27T17:52:54.503Z"
      },
      {
        "duration": 0,
        "start_time": "2025-05-27T17:52:54.536Z"
      },
      {
        "duration": 0,
        "start_time": "2025-05-27T17:52:54.538Z"
      },
      {
        "duration": 0,
        "start_time": "2025-05-27T17:52:54.539Z"
      },
      {
        "duration": 0,
        "start_time": "2025-05-27T17:52:54.540Z"
      },
      {
        "duration": 0,
        "start_time": "2025-05-27T17:52:54.541Z"
      },
      {
        "duration": 1,
        "start_time": "2025-05-27T17:52:54.542Z"
      },
      {
        "duration": 0,
        "start_time": "2025-05-27T17:52:54.544Z"
      },
      {
        "duration": 0,
        "start_time": "2025-05-27T17:52:54.545Z"
      },
      {
        "duration": 16,
        "start_time": "2025-05-27T17:53:14.101Z"
      },
      {
        "duration": 9,
        "start_time": "2025-05-27T17:53:33.079Z"
      },
      {
        "duration": 34,
        "start_time": "2025-05-27T17:53:39.784Z"
      },
      {
        "duration": 18,
        "start_time": "2025-05-27T17:53:40.400Z"
      },
      {
        "duration": 141,
        "start_time": "2025-05-27T17:53:44.354Z"
      },
      {
        "duration": 674,
        "start_time": "2025-05-27T17:53:47.558Z"
      },
      {
        "duration": 12,
        "start_time": "2025-05-27T17:53:51.031Z"
      },
      {
        "duration": 2,
        "start_time": "2025-05-27T17:55:42.932Z"
      },
      {
        "duration": 60,
        "start_time": "2025-05-27T17:55:42.937Z"
      },
      {
        "duration": 231,
        "start_time": "2025-05-27T17:55:42.998Z"
      },
      {
        "duration": 27,
        "start_time": "2025-05-27T17:55:43.231Z"
      },
      {
        "duration": 29,
        "start_time": "2025-05-27T17:55:43.260Z"
      },
      {
        "duration": 7,
        "start_time": "2025-05-27T17:55:43.291Z"
      },
      {
        "duration": 23,
        "start_time": "2025-05-27T17:55:43.300Z"
      },
      {
        "duration": 9,
        "start_time": "2025-05-27T17:55:45.053Z"
      },
      {
        "duration": 36,
        "start_time": "2025-05-27T17:55:47.228Z"
      },
      {
        "duration": 18,
        "start_time": "2025-05-27T17:55:47.769Z"
      },
      {
        "duration": 68,
        "start_time": "2025-05-27T17:55:50.097Z"
      },
      {
        "duration": 699,
        "start_time": "2025-05-27T17:55:55.206Z"
      },
      {
        "duration": 13,
        "start_time": "2025-05-27T17:55:56.485Z"
      },
      {
        "duration": 47,
        "start_time": "2025-05-27T17:56:00.392Z"
      },
      {
        "duration": 373,
        "start_time": "2025-05-27T17:56:00.992Z"
      },
      {
        "duration": 196,
        "start_time": "2025-05-27T17:56:02.431Z"
      },
      {
        "duration": 4,
        "start_time": "2025-05-27T17:56:03.898Z"
      },
      {
        "duration": 482,
        "start_time": "2025-05-27T17:56:04.935Z"
      },
      {
        "duration": 3,
        "start_time": "2025-05-27T17:56:08.056Z"
      },
      {
        "duration": 43,
        "start_time": "2025-05-27T17:56:08.553Z"
      },
      {
        "duration": 171,
        "start_time": "2025-05-27T17:56:16.776Z"
      },
      {
        "duration": 143,
        "start_time": "2025-05-27T17:56:27.589Z"
      },
      {
        "duration": 135,
        "start_time": "2025-05-27T17:56:49.010Z"
      },
      {
        "duration": 1351,
        "start_time": "2025-05-27T18:22:24.759Z"
      },
      {
        "duration": 138,
        "start_time": "2025-05-27T18:22:56.543Z"
      },
      {
        "duration": 8,
        "start_time": "2025-05-27T20:33:37.796Z"
      },
      {
        "duration": 398,
        "start_time": "2025-05-27T20:33:58.033Z"
      },
      {
        "duration": 25,
        "start_time": "2025-05-27T20:34:05.033Z"
      },
      {
        "duration": 529,
        "start_time": "2025-05-27T20:34:16.394Z"
      },
      {
        "duration": 48,
        "start_time": "2025-05-27T20:34:22.104Z"
      },
      {
        "duration": 25,
        "start_time": "2025-05-27T20:34:39.543Z"
      },
      {
        "duration": 1807,
        "start_time": "2025-05-27T20:37:17.922Z"
      },
      {
        "duration": 1510,
        "start_time": "2025-05-27T20:38:08.120Z"
      },
      {
        "duration": 1552,
        "start_time": "2025-05-27T20:38:38.984Z"
      },
      {
        "duration": 1465,
        "start_time": "2025-05-27T20:38:44.426Z"
      },
      {
        "duration": 1620,
        "start_time": "2025-05-27T20:38:54.302Z"
      },
      {
        "duration": 1470,
        "start_time": "2025-05-27T20:39:24.867Z"
      },
      {
        "duration": 187,
        "start_time": "2025-05-27T20:39:39.551Z"
      },
      {
        "duration": 177,
        "start_time": "2025-05-27T20:39:55.319Z"
      },
      {
        "duration": 180,
        "start_time": "2025-05-27T20:40:13.370Z"
      },
      {
        "duration": 1527,
        "start_time": "2025-05-27T20:40:18.723Z"
      },
      {
        "duration": 173,
        "start_time": "2025-05-27T20:40:35.229Z"
      },
      {
        "duration": 1617,
        "start_time": "2025-05-27T20:40:36.999Z"
      },
      {
        "duration": 1501,
        "start_time": "2025-05-27T20:41:20.045Z"
      },
      {
        "duration": 1579,
        "start_time": "2025-05-27T20:41:28.110Z"
      },
      {
        "duration": 1503,
        "start_time": "2025-05-27T20:42:17.892Z"
      },
      {
        "duration": 3,
        "start_time": "2025-05-27T21:47:45.909Z"
      },
      {
        "duration": 103,
        "start_time": "2025-05-27T21:47:45.914Z"
      },
      {
        "duration": 414,
        "start_time": "2025-05-27T21:47:46.019Z"
      },
      {
        "duration": 23,
        "start_time": "2025-05-27T21:47:46.435Z"
      },
      {
        "duration": 28,
        "start_time": "2025-05-27T21:47:46.460Z"
      },
      {
        "duration": 11,
        "start_time": "2025-05-27T21:47:46.490Z"
      },
      {
        "duration": 26,
        "start_time": "2025-05-27T21:47:46.503Z"
      },
      {
        "duration": 83,
        "start_time": "2025-05-27T21:47:46.531Z"
      },
      {
        "duration": 40,
        "start_time": "2025-05-27T21:47:46.615Z"
      },
      {
        "duration": 124,
        "start_time": "2025-05-27T21:47:46.657Z"
      },
      {
        "duration": 675,
        "start_time": "2025-05-27T21:47:46.783Z"
      },
      {
        "duration": 31,
        "start_time": "2025-05-27T21:47:47.459Z"
      },
      {
        "duration": 378,
        "start_time": "2025-05-27T21:47:47.492Z"
      },
      {
        "duration": 186,
        "start_time": "2025-05-27T21:47:47.873Z"
      },
      {
        "duration": 1660,
        "start_time": "2025-05-27T21:47:48.061Z"
      },
      {
        "duration": 14,
        "start_time": "2025-05-27T21:47:49.723Z"
      },
      {
        "duration": 478,
        "start_time": "2025-05-27T21:47:49.739Z"
      },
      {
        "duration": 3,
        "start_time": "2025-05-27T21:47:50.219Z"
      },
      {
        "duration": 52,
        "start_time": "2025-05-27T21:47:50.223Z"
      },
      {
        "duration": 140,
        "start_time": "2025-05-27T21:47:50.276Z"
      },
      {
        "duration": 9,
        "start_time": "2025-05-27T21:48:49.566Z"
      },
      {
        "duration": 9,
        "start_time": "2025-05-27T21:49:01.860Z"
      },
      {
        "duration": 3,
        "start_time": "2025-05-27T21:49:30.421Z"
      },
      {
        "duration": 44,
        "start_time": "2025-05-27T21:49:30.850Z"
      },
      {
        "duration": 9,
        "start_time": "2025-05-27T21:49:31.446Z"
      },
      {
        "duration": 4,
        "start_time": "2025-05-27T21:49:39.009Z"
      },
      {
        "duration": 42,
        "start_time": "2025-05-27T21:49:39.378Z"
      },
      {
        "duration": 9,
        "start_time": "2025-05-27T21:49:39.858Z"
      },
      {
        "duration": 3,
        "start_time": "2025-05-27T21:49:51.116Z"
      },
      {
        "duration": 44,
        "start_time": "2025-05-27T21:49:51.541Z"
      },
      {
        "duration": 9,
        "start_time": "2025-05-27T21:49:51.856Z"
      },
      {
        "duration": 11,
        "start_time": "2025-05-27T21:53:14.077Z"
      },
      {
        "duration": 12,
        "start_time": "2025-05-27T21:53:23.979Z"
      },
      {
        "duration": 6,
        "start_time": "2025-05-27T21:54:05.296Z"
      },
      {
        "duration": 6,
        "start_time": "2025-05-27T21:54:27.010Z"
      },
      {
        "duration": 9,
        "start_time": "2025-05-27T21:54:34.200Z"
      },
      {
        "duration": 7,
        "start_time": "2025-05-27T21:55:17.444Z"
      },
      {
        "duration": 9,
        "start_time": "2025-05-27T21:55:26.828Z"
      },
      {
        "duration": 3,
        "start_time": "2025-05-27T22:38:32.403Z"
      },
      {
        "duration": 80,
        "start_time": "2025-05-27T22:38:32.407Z"
      },
      {
        "duration": 401,
        "start_time": "2025-05-27T22:38:32.489Z"
      },
      {
        "duration": 20,
        "start_time": "2025-05-27T22:38:32.892Z"
      },
      {
        "duration": 24,
        "start_time": "2025-05-27T22:38:32.915Z"
      },
      {
        "duration": 7,
        "start_time": "2025-05-27T22:38:32.941Z"
      },
      {
        "duration": 24,
        "start_time": "2025-05-27T22:38:32.950Z"
      },
      {
        "duration": 9,
        "start_time": "2025-05-27T22:38:32.976Z"
      },
      {
        "duration": 70,
        "start_time": "2025-05-27T22:38:32.987Z"
      },
      {
        "duration": 13,
        "start_time": "2025-05-27T22:38:33.059Z"
      },
      {
        "duration": 770,
        "start_time": "2025-05-27T22:38:33.074Z"
      },
      {
        "duration": 6,
        "start_time": "2025-05-27T22:38:33.847Z"
      },
      {
        "duration": 10,
        "start_time": "2025-05-27T22:39:19.249Z"
      },
      {
        "duration": 1992,
        "start_time": "2025-05-27T22:39:30.738Z"
      },
      {
        "duration": 3,
        "start_time": "2025-05-27T22:40:19.866Z"
      },
      {
        "duration": 465,
        "start_time": "2025-05-27T22:40:20.930Z"
      },
      {
        "duration": 3,
        "start_time": "2025-05-27T22:40:22.374Z"
      },
      {
        "duration": 47,
        "start_time": "2025-05-27T22:40:24.708Z"
      },
      {
        "duration": 125,
        "start_time": "2025-05-27T22:40:25.626Z"
      },
      {
        "duration": 1496,
        "start_time": "2025-05-27T22:40:28.560Z"
      },
      {
        "duration": 12,
        "start_time": "2025-05-27T22:40:37.147Z"
      },
      {
        "duration": 1256,
        "start_time": "2025-05-27T22:51:24.110Z"
      },
      {
        "duration": 22,
        "start_time": "2025-05-27T22:51:42.447Z"
      },
      {
        "duration": 1621,
        "start_time": "2025-05-27T22:52:25.648Z"
      },
      {
        "duration": 15,
        "start_time": "2025-05-27T22:53:47.472Z"
      },
      {
        "duration": 15,
        "start_time": "2025-05-27T22:53:53.820Z"
      },
      {
        "duration": 82,
        "start_time": "2025-05-27T22:54:06.104Z"
      },
      {
        "duration": 15,
        "start_time": "2025-05-27T22:54:08.048Z"
      },
      {
        "duration": 3,
        "start_time": "2025-05-27T22:55:02.864Z"
      },
      {
        "duration": 202,
        "start_time": "2025-05-27T22:55:02.869Z"
      },
      {
        "duration": 396,
        "start_time": "2025-05-27T22:55:03.073Z"
      },
      {
        "duration": 19,
        "start_time": "2025-05-27T22:55:03.471Z"
      },
      {
        "duration": 28,
        "start_time": "2025-05-27T22:55:03.492Z"
      },
      {
        "duration": 22,
        "start_time": "2025-05-27T22:55:03.521Z"
      },
      {
        "duration": 25,
        "start_time": "2025-05-27T22:55:03.545Z"
      },
      {
        "duration": 17,
        "start_time": "2025-05-27T22:55:03.572Z"
      },
      {
        "duration": 62,
        "start_time": "2025-05-27T22:55:03.590Z"
      },
      {
        "duration": 98,
        "start_time": "2025-05-27T22:55:03.654Z"
      },
      {
        "duration": 752,
        "start_time": "2025-05-27T22:55:03.754Z"
      },
      {
        "duration": 6,
        "start_time": "2025-05-27T22:55:04.508Z"
      },
      {
        "duration": 2118,
        "start_time": "2025-05-27T22:55:04.516Z"
      },
      {
        "duration": 3,
        "start_time": "2025-05-27T22:55:06.637Z"
      },
      {
        "duration": 482,
        "start_time": "2025-05-27T22:55:06.641Z"
      },
      {
        "duration": 3,
        "start_time": "2025-05-27T22:55:07.124Z"
      },
      {
        "duration": 49,
        "start_time": "2025-05-27T22:55:07.136Z"
      },
      {
        "duration": 130,
        "start_time": "2025-05-27T22:55:07.186Z"
      },
      {
        "duration": 23,
        "start_time": "2025-05-27T22:55:07.318Z"
      },
      {
        "duration": 35,
        "start_time": "2025-05-27T22:55:07.343Z"
      },
      {
        "duration": 1678,
        "start_time": "2025-05-27T22:55:14.474Z"
      },
      {
        "duration": 1664,
        "start_time": "2025-05-27T22:55:23.215Z"
      },
      {
        "duration": 1805,
        "start_time": "2025-05-27T22:55:58.800Z"
      },
      {
        "duration": 3,
        "start_time": "2025-05-27T23:07:33.299Z"
      },
      {
        "duration": 80,
        "start_time": "2025-05-27T23:07:33.304Z"
      },
      {
        "duration": 330,
        "start_time": "2025-05-27T23:07:33.503Z"
      },
      {
        "duration": 21,
        "start_time": "2025-05-27T23:07:33.835Z"
      },
      {
        "duration": 41,
        "start_time": "2025-05-27T23:07:33.857Z"
      },
      {
        "duration": 11,
        "start_time": "2025-05-27T23:07:33.900Z"
      },
      {
        "duration": 32,
        "start_time": "2025-05-27T23:07:33.914Z"
      },
      {
        "duration": 11,
        "start_time": "2025-05-27T23:07:33.947Z"
      },
      {
        "duration": 50,
        "start_time": "2025-05-27T23:07:33.959Z"
      },
      {
        "duration": 11,
        "start_time": "2025-05-27T23:07:34.011Z"
      },
      {
        "duration": 782,
        "start_time": "2025-05-27T23:07:34.023Z"
      },
      {
        "duration": 6,
        "start_time": "2025-05-27T23:07:34.807Z"
      },
      {
        "duration": 2019,
        "start_time": "2025-05-27T23:07:34.814Z"
      },
      {
        "duration": 3,
        "start_time": "2025-05-27T23:07:36.836Z"
      },
      {
        "duration": 567,
        "start_time": "2025-05-27T23:07:36.841Z"
      },
      {
        "duration": 3,
        "start_time": "2025-05-27T23:07:37.411Z"
      },
      {
        "duration": 138,
        "start_time": "2025-05-27T23:07:37.415Z"
      },
      {
        "duration": 157,
        "start_time": "2025-05-27T23:07:37.555Z"
      },
      {
        "duration": 12,
        "start_time": "2025-05-27T23:07:37.714Z"
      },
      {
        "duration": 1688,
        "start_time": "2025-05-27T23:07:37.737Z"
      },
      {
        "duration": 1620,
        "start_time": "2025-05-27T23:07:39.427Z"
      },
      {
        "duration": 1749,
        "start_time": "2025-05-27T23:07:41.049Z"
      },
      {
        "duration": 3,
        "start_time": "2025-05-27T23:26:17.737Z"
      },
      {
        "duration": 90,
        "start_time": "2025-05-27T23:26:17.742Z"
      },
      {
        "duration": 425,
        "start_time": "2025-05-27T23:26:17.834Z"
      },
      {
        "duration": 21,
        "start_time": "2025-05-27T23:26:18.260Z"
      },
      {
        "duration": 16,
        "start_time": "2025-05-27T23:26:18.283Z"
      },
      {
        "duration": 7,
        "start_time": "2025-05-27T23:26:18.300Z"
      },
      {
        "duration": 42,
        "start_time": "2025-05-27T23:26:18.309Z"
      },
      {
        "duration": 9,
        "start_time": "2025-05-27T23:26:18.352Z"
      },
      {
        "duration": 63,
        "start_time": "2025-05-27T23:26:18.363Z"
      },
      {
        "duration": 12,
        "start_time": "2025-05-27T23:26:18.428Z"
      },
      {
        "duration": 781,
        "start_time": "2025-05-27T23:26:18.442Z"
      },
      {
        "duration": 11,
        "start_time": "2025-05-27T23:26:19.225Z"
      },
      {
        "duration": 1965,
        "start_time": "2025-05-27T23:26:19.238Z"
      },
      {
        "duration": 3,
        "start_time": "2025-05-27T23:26:21.204Z"
      },
      {
        "duration": 489,
        "start_time": "2025-05-27T23:26:21.209Z"
      },
      {
        "duration": 3,
        "start_time": "2025-05-27T23:26:21.700Z"
      },
      {
        "duration": 80,
        "start_time": "2025-05-27T23:26:21.704Z"
      },
      {
        "duration": 121,
        "start_time": "2025-05-27T23:26:21.786Z"
      },
      {
        "duration": 12,
        "start_time": "2025-05-27T23:26:21.908Z"
      },
      {
        "duration": 1646,
        "start_time": "2025-05-27T23:26:21.921Z"
      },
      {
        "duration": 1703,
        "start_time": "2025-05-27T23:26:23.568Z"
      },
      {
        "duration": 1679,
        "start_time": "2025-05-27T23:26:25.273Z"
      },
      {
        "duration": 4,
        "start_time": "2025-05-27T23:28:32.681Z"
      },
      {
        "duration": 50,
        "start_time": "2025-05-27T23:28:52.860Z"
      },
      {
        "duration": 51,
        "start_time": "2025-05-27T23:30:54.797Z"
      },
      {
        "duration": 48,
        "start_time": "2025-05-27T23:31:05.648Z"
      },
      {
        "duration": 11,
        "start_time": "2025-05-27T23:31:52.065Z"
      },
      {
        "duration": 11,
        "start_time": "2025-05-27T23:32:10.038Z"
      },
      {
        "duration": 6,
        "start_time": "2025-05-27T23:33:17.890Z"
      },
      {
        "duration": 53,
        "start_time": "2025-05-27T23:35:52.321Z"
      },
      {
        "duration": 5,
        "start_time": "2025-05-27T23:37:01.696Z"
      },
      {
        "duration": 51,
        "start_time": "2025-05-27T23:37:03.035Z"
      },
      {
        "duration": 70,
        "start_time": "2025-05-27T23:37:17.605Z"
      },
      {
        "duration": 51,
        "start_time": "2025-05-27T23:37:18.257Z"
      },
      {
        "duration": 4,
        "start_time": "2025-05-27T23:37:23.037Z"
      },
      {
        "duration": 50,
        "start_time": "2025-05-27T23:37:23.755Z"
      },
      {
        "duration": 48,
        "start_time": "2025-05-27T23:37:28.533Z"
      },
      {
        "duration": 72,
        "start_time": "2025-05-27T23:37:41.674Z"
      },
      {
        "duration": 52,
        "start_time": "2025-05-27T23:37:42.577Z"
      },
      {
        "duration": 5,
        "start_time": "2025-05-27T23:37:55.257Z"
      },
      {
        "duration": 50,
        "start_time": "2025-05-27T23:37:56.138Z"
      },
      {
        "duration": 4,
        "start_time": "2025-05-27T23:38:47.121Z"
      },
      {
        "duration": 50,
        "start_time": "2025-05-27T23:38:52.081Z"
      },
      {
        "duration": 99,
        "start_time": "2025-05-27T23:39:33.937Z"
      },
      {
        "duration": 92,
        "start_time": "2025-05-27T23:39:47.945Z"
      },
      {
        "duration": 102,
        "start_time": "2025-05-27T23:40:10.737Z"
      },
      {
        "duration": 88,
        "start_time": "2025-05-27T23:40:29.847Z"
      },
      {
        "duration": 1421,
        "start_time": "2025-05-27T23:41:43.530Z"
      },
      {
        "duration": 1452,
        "start_time": "2025-05-27T23:42:05.096Z"
      },
      {
        "duration": 102,
        "start_time": "2025-05-28T00:10:49.830Z"
      },
      {
        "duration": 3,
        "start_time": "2025-05-28T00:11:38.102Z"
      },
      {
        "duration": 93,
        "start_time": "2025-05-28T00:11:38.106Z"
      },
      {
        "duration": 329,
        "start_time": "2025-05-28T00:11:38.201Z"
      },
      {
        "duration": 19,
        "start_time": "2025-05-28T00:11:38.532Z"
      },
      {
        "duration": 56,
        "start_time": "2025-05-28T00:11:38.554Z"
      },
      {
        "duration": 10,
        "start_time": "2025-05-28T00:11:38.612Z"
      },
      {
        "duration": 24,
        "start_time": "2025-05-28T00:11:38.624Z"
      },
      {
        "duration": 8,
        "start_time": "2025-05-28T00:11:38.649Z"
      },
      {
        "duration": 35,
        "start_time": "2025-05-28T00:11:38.659Z"
      },
      {
        "duration": 11,
        "start_time": "2025-05-28T00:11:38.696Z"
      },
      {
        "duration": 772,
        "start_time": "2025-05-28T00:11:38.709Z"
      },
      {
        "duration": 7,
        "start_time": "2025-05-28T00:11:39.482Z"
      },
      {
        "duration": 1998,
        "start_time": "2025-05-28T00:11:39.490Z"
      },
      {
        "duration": 3,
        "start_time": "2025-05-28T00:11:41.490Z"
      },
      {
        "duration": 551,
        "start_time": "2025-05-28T00:11:41.495Z"
      },
      {
        "duration": 3,
        "start_time": "2025-05-28T00:11:42.048Z"
      },
      {
        "duration": 96,
        "start_time": "2025-05-28T00:11:42.052Z"
      },
      {
        "duration": 126,
        "start_time": "2025-05-28T00:11:42.150Z"
      },
      {
        "duration": 11,
        "start_time": "2025-05-28T00:11:42.277Z"
      },
      {
        "duration": 1679,
        "start_time": "2025-05-28T00:11:42.290Z"
      },
      {
        "duration": 1634,
        "start_time": "2025-05-28T00:11:43.971Z"
      },
      {
        "duration": 1681,
        "start_time": "2025-05-28T00:11:45.607Z"
      },
      {
        "duration": 5,
        "start_time": "2025-05-28T00:11:47.289Z"
      },
      {
        "duration": 106,
        "start_time": "2025-05-28T00:11:47.295Z"
      },
      {
        "duration": 102,
        "start_time": "2025-05-28T00:11:47.404Z"
      },
      {
        "duration": 99,
        "start_time": "2025-05-28T00:11:47.508Z"
      },
      {
        "duration": 9,
        "start_time": "2025-05-28T00:12:38.643Z"
      },
      {
        "duration": 3,
        "start_time": "2025-05-28T00:19:44.911Z"
      },
      {
        "duration": 3,
        "start_time": "2025-05-28T00:22:04.090Z"
      },
      {
        "duration": 93,
        "start_time": "2025-05-28T00:22:04.095Z"
      },
      {
        "duration": 415,
        "start_time": "2025-05-28T00:22:04.189Z"
      },
      {
        "duration": 34,
        "start_time": "2025-05-28T00:22:04.606Z"
      },
      {
        "duration": 6,
        "start_time": "2025-05-28T00:22:04.643Z"
      },
      {
        "duration": 7,
        "start_time": "2025-05-28T00:22:04.651Z"
      },
      {
        "duration": 25,
        "start_time": "2025-05-28T00:22:04.660Z"
      },
      {
        "duration": 9,
        "start_time": "2025-05-28T00:22:04.688Z"
      },
      {
        "duration": 70,
        "start_time": "2025-05-28T00:22:04.699Z"
      },
      {
        "duration": 115,
        "start_time": "2025-05-28T00:22:04.771Z"
      },
      {
        "duration": 696,
        "start_time": "2025-05-28T00:22:04.888Z"
      },
      {
        "duration": 7,
        "start_time": "2025-05-28T00:22:05.585Z"
      },
      {
        "duration": 2112,
        "start_time": "2025-05-28T00:22:05.593Z"
      },
      {
        "duration": 3,
        "start_time": "2025-05-28T00:22:07.709Z"
      },
      {
        "duration": 484,
        "start_time": "2025-05-28T00:22:07.714Z"
      },
      {
        "duration": 3,
        "start_time": "2025-05-28T00:22:08.201Z"
      },
      {
        "duration": 62,
        "start_time": "2025-05-28T00:22:08.206Z"
      },
      {
        "duration": 5,
        "start_time": "2025-05-28T00:22:08.270Z"
      },
      {
        "duration": 239,
        "start_time": "2025-05-28T00:22:08.277Z"
      },
      {
        "duration": 226,
        "start_time": "2025-05-28T00:22:19.643Z"
      },
      {
        "duration": 228,
        "start_time": "2025-05-28T00:22:37.246Z"
      },
      {
        "duration": 3,
        "start_time": "2025-05-28T00:24:04.751Z"
      },
      {
        "duration": 76,
        "start_time": "2025-05-28T00:24:04.756Z"
      },
      {
        "duration": 394,
        "start_time": "2025-05-28T00:24:04.834Z"
      },
      {
        "duration": 21,
        "start_time": "2025-05-28T00:24:05.237Z"
      },
      {
        "duration": 5,
        "start_time": "2025-05-28T00:24:05.261Z"
      },
      {
        "duration": 22,
        "start_time": "2025-05-28T00:24:05.268Z"
      },
      {
        "duration": 35,
        "start_time": "2025-05-28T00:24:05.292Z"
      },
      {
        "duration": 12,
        "start_time": "2025-05-28T00:24:05.329Z"
      },
      {
        "duration": 52,
        "start_time": "2025-05-28T00:24:05.342Z"
      },
      {
        "duration": 11,
        "start_time": "2025-05-28T00:24:05.395Z"
      },
      {
        "duration": 871,
        "start_time": "2025-05-28T00:24:05.407Z"
      },
      {
        "duration": 7,
        "start_time": "2025-05-28T00:24:06.279Z"
      },
      {
        "duration": 2020,
        "start_time": "2025-05-28T00:24:06.288Z"
      },
      {
        "duration": 3,
        "start_time": "2025-05-28T00:24:08.310Z"
      },
      {
        "duration": 469,
        "start_time": "2025-05-28T00:24:08.315Z"
      },
      {
        "duration": 2,
        "start_time": "2025-05-28T00:24:08.786Z"
      },
      {
        "duration": 55,
        "start_time": "2025-05-28T00:24:08.790Z"
      },
      {
        "duration": 4,
        "start_time": "2025-05-28T00:24:08.847Z"
      },
      {
        "duration": 347,
        "start_time": "2025-05-28T00:24:08.853Z"
      },
      {
        "duration": 11,
        "start_time": "2025-05-28T00:24:09.201Z"
      },
      {
        "duration": 1691,
        "start_time": "2025-05-28T00:24:09.214Z"
      },
      {
        "duration": 1642,
        "start_time": "2025-05-28T00:24:10.907Z"
      },
      {
        "duration": 1696,
        "start_time": "2025-05-28T00:24:12.551Z"
      },
      {
        "duration": 107,
        "start_time": "2025-05-28T00:24:14.249Z"
      },
      {
        "duration": 116,
        "start_time": "2025-05-28T00:24:14.359Z"
      },
      {
        "duration": 102,
        "start_time": "2025-05-28T00:24:14.477Z"
      },
      {
        "duration": 4,
        "start_time": "2025-05-28T00:25:27.420Z"
      },
      {
        "duration": 7,
        "start_time": "2025-05-28T00:26:24.627Z"
      },
      {
        "duration": 5,
        "start_time": "2025-05-28T00:26:32.402Z"
      },
      {
        "duration": 9,
        "start_time": "2025-05-28T00:26:50.864Z"
      },
      {
        "duration": 12,
        "start_time": "2025-05-28T00:30:23.059Z"
      },
      {
        "duration": 10,
        "start_time": "2025-05-28T00:30:34.216Z"
      },
      {
        "duration": 235,
        "start_time": "2025-05-28T02:04:54.350Z"
      },
      {
        "duration": 119,
        "start_time": "2025-05-28T02:06:25.912Z"
      },
      {
        "duration": 117,
        "start_time": "2025-05-28T02:07:14.210Z"
      },
      {
        "duration": 129,
        "start_time": "2025-05-28T02:08:52.162Z"
      },
      {
        "duration": 117,
        "start_time": "2025-05-28T02:09:09.105Z"
      },
      {
        "duration": 115,
        "start_time": "2025-05-28T02:09:28.681Z"
      },
      {
        "duration": 3,
        "start_time": "2025-05-28T02:13:24.417Z"
      },
      {
        "duration": 3,
        "start_time": "2025-05-28T02:15:00.181Z"
      },
      {
        "duration": 127,
        "start_time": "2025-05-28T02:18:06.396Z"
      },
      {
        "duration": 126,
        "start_time": "2025-05-28T02:18:23.171Z"
      },
      {
        "duration": 125,
        "start_time": "2025-05-28T02:18:41.123Z"
      },
      {
        "duration": 11,
        "start_time": "2025-05-28T02:37:43.449Z"
      },
      {
        "duration": 31,
        "start_time": "2025-05-28T02:40:26.279Z"
      },
      {
        "duration": 29,
        "start_time": "2025-05-28T02:40:38.596Z"
      },
      {
        "duration": 337,
        "start_time": "2025-05-28T02:43:48.237Z"
      },
      {
        "duration": 14,
        "start_time": "2025-05-28T02:44:02.112Z"
      },
      {
        "duration": 11,
        "start_time": "2025-05-28T02:46:10.321Z"
      },
      {
        "duration": 5,
        "start_time": "2025-05-28T02:49:29.230Z"
      },
      {
        "duration": 12,
        "start_time": "2025-05-28T02:49:36.227Z"
      },
      {
        "duration": 11,
        "start_time": "2025-05-28T02:51:41.012Z"
      },
      {
        "duration": 11,
        "start_time": "2025-05-28T02:51:42.497Z"
      },
      {
        "duration": 11,
        "start_time": "2025-05-28T02:51:56.708Z"
      },
      {
        "duration": 11,
        "start_time": "2025-05-28T02:51:57.376Z"
      },
      {
        "duration": 7,
        "start_time": "2025-05-28T02:55:35.554Z"
      },
      {
        "duration": 12,
        "start_time": "2025-05-28T02:55:36.266Z"
      },
      {
        "duration": 13,
        "start_time": "2025-05-28T02:56:42.165Z"
      },
      {
        "duration": 1445,
        "start_time": "2025-05-28T03:00:35.486Z"
      },
      {
        "duration": 42,
        "start_time": "2025-05-28T03:01:00.966Z"
      },
      {
        "duration": 52,
        "start_time": "2025-05-28T03:01:15.587Z"
      },
      {
        "duration": 38,
        "start_time": "2025-05-28T03:02:00.233Z"
      },
      {
        "duration": 51,
        "start_time": "2025-05-28T03:02:24.954Z"
      },
      {
        "duration": 62,
        "start_time": "2025-05-28T03:02:32.258Z"
      },
      {
        "duration": 34,
        "start_time": "2025-05-28T03:04:35.284Z"
      },
      {
        "duration": 5,
        "start_time": "2025-05-28T03:05:29.653Z"
      },
      {
        "duration": 3,
        "start_time": "2025-05-28T03:20:11.030Z"
      },
      {
        "duration": 88,
        "start_time": "2025-05-28T03:21:18.123Z"
      },
      {
        "duration": 4,
        "start_time": "2025-05-28T03:21:18.866Z"
      },
      {
        "duration": 4,
        "start_time": "2025-05-28T03:21:19.542Z"
      },
      {
        "duration": 4,
        "start_time": "2025-05-28T03:23:52.599Z"
      },
      {
        "duration": 87,
        "start_time": "2025-05-28T03:23:52.605Z"
      },
      {
        "duration": 308,
        "start_time": "2025-05-28T03:23:52.693Z"
      },
      {
        "duration": 19,
        "start_time": "2025-05-28T03:23:53.003Z"
      },
      {
        "duration": 15,
        "start_time": "2025-05-28T03:23:53.025Z"
      },
      {
        "duration": 11,
        "start_time": "2025-05-28T03:23:53.041Z"
      },
      {
        "duration": 28,
        "start_time": "2025-05-28T03:23:53.054Z"
      },
      {
        "duration": 8,
        "start_time": "2025-05-28T03:23:53.084Z"
      },
      {
        "duration": 51,
        "start_time": "2025-05-28T03:23:53.094Z"
      },
      {
        "duration": 10,
        "start_time": "2025-05-28T03:23:53.147Z"
      },
      {
        "duration": 816,
        "start_time": "2025-05-28T03:23:53.159Z"
      },
      {
        "duration": 6,
        "start_time": "2025-05-28T03:23:53.977Z"
      },
      {
        "duration": 2020,
        "start_time": "2025-05-28T03:23:53.985Z"
      },
      {
        "duration": 3,
        "start_time": "2025-05-28T03:23:56.009Z"
      },
      {
        "duration": 477,
        "start_time": "2025-05-28T03:23:56.013Z"
      },
      {
        "duration": 10,
        "start_time": "2025-05-28T03:23:56.491Z"
      },
      {
        "duration": 31,
        "start_time": "2025-05-28T03:23:56.502Z"
      },
      {
        "duration": 45,
        "start_time": "2025-05-28T03:23:56.534Z"
      },
      {
        "duration": 9,
        "start_time": "2025-05-28T03:23:56.580Z"
      },
      {
        "duration": 4,
        "start_time": "2025-05-28T03:23:56.591Z"
      },
      {
        "duration": 249,
        "start_time": "2025-05-28T03:23:56.597Z"
      },
      {
        "duration": 10,
        "start_time": "2025-05-28T03:23:56.848Z"
      },
      {
        "duration": 1800,
        "start_time": "2025-05-28T03:23:56.860Z"
      },
      {
        "duration": 1628,
        "start_time": "2025-05-28T03:23:58.662Z"
      },
      {
        "duration": 1714,
        "start_time": "2025-05-28T03:24:00.292Z"
      },
      {
        "duration": 108,
        "start_time": "2025-05-28T03:24:02.007Z"
      },
      {
        "duration": 100,
        "start_time": "2025-05-28T03:24:02.117Z"
      },
      {
        "duration": 116,
        "start_time": "2025-05-28T03:24:02.219Z"
      },
      {
        "duration": 126,
        "start_time": "2025-05-28T03:24:02.337Z"
      },
      {
        "duration": 51,
        "start_time": "2025-05-28T03:24:16.584Z"
      },
      {
        "duration": 86,
        "start_time": "2025-05-28T03:24:17.711Z"
      },
      {
        "duration": 15,
        "start_time": "2025-05-28T03:24:19.017Z"
      },
      {
        "duration": 7,
        "start_time": "2025-05-28T03:24:31.256Z"
      },
      {
        "duration": 8,
        "start_time": "2025-05-28T03:28:26.264Z"
      },
      {
        "duration": 8,
        "start_time": "2025-05-28T03:28:36.144Z"
      },
      {
        "duration": 9,
        "start_time": "2025-05-28T03:29:03.174Z"
      },
      {
        "duration": 3,
        "start_time": "2025-05-28T03:31:08.323Z"
      },
      {
        "duration": 88,
        "start_time": "2025-05-28T03:31:08.328Z"
      },
      {
        "duration": 293,
        "start_time": "2025-05-28T03:31:08.417Z"
      },
      {
        "duration": 28,
        "start_time": "2025-05-28T03:31:08.712Z"
      },
      {
        "duration": 23,
        "start_time": "2025-05-28T03:31:08.742Z"
      },
      {
        "duration": 6,
        "start_time": "2025-05-28T03:31:08.766Z"
      },
      {
        "duration": 28,
        "start_time": "2025-05-28T03:31:08.774Z"
      },
      {
        "duration": 10,
        "start_time": "2025-05-28T03:31:08.804Z"
      },
      {
        "duration": 49,
        "start_time": "2025-05-28T03:31:08.816Z"
      },
      {
        "duration": 119,
        "start_time": "2025-05-28T03:31:08.868Z"
      },
      {
        "duration": 764,
        "start_time": "2025-05-28T03:31:08.994Z"
      },
      {
        "duration": 6,
        "start_time": "2025-05-28T03:31:09.760Z"
      },
      {
        "duration": 2104,
        "start_time": "2025-05-28T03:31:09.767Z"
      },
      {
        "duration": 3,
        "start_time": "2025-05-28T03:31:11.873Z"
      },
      {
        "duration": 484,
        "start_time": "2025-05-28T03:31:11.877Z"
      },
      {
        "duration": 9,
        "start_time": "2025-05-28T03:31:12.363Z"
      },
      {
        "duration": 8,
        "start_time": "2025-05-28T03:31:12.373Z"
      },
      {
        "duration": 60,
        "start_time": "2025-05-28T03:31:12.383Z"
      },
      {
        "duration": 9,
        "start_time": "2025-05-28T03:31:12.444Z"
      },
      {
        "duration": 4,
        "start_time": "2025-05-28T03:31:12.455Z"
      },
      {
        "duration": 250,
        "start_time": "2025-05-28T03:31:12.460Z"
      },
      {
        "duration": 11,
        "start_time": "2025-05-28T03:31:12.712Z"
      },
      {
        "duration": 1689,
        "start_time": "2025-05-28T03:31:12.736Z"
      },
      {
        "duration": 1660,
        "start_time": "2025-05-28T03:31:14.426Z"
      },
      {
        "duration": 1841,
        "start_time": "2025-05-28T03:31:16.087Z"
      },
      {
        "duration": 103,
        "start_time": "2025-05-28T03:31:17.936Z"
      },
      {
        "duration": 103,
        "start_time": "2025-05-28T03:31:18.041Z"
      },
      {
        "duration": 96,
        "start_time": "2025-05-28T03:31:18.147Z"
      },
      {
        "duration": 142,
        "start_time": "2025-05-28T03:31:18.245Z"
      },
      {
        "duration": 62,
        "start_time": "2025-05-28T03:31:18.389Z"
      },
      {
        "duration": 89,
        "start_time": "2025-05-28T03:31:18.453Z"
      },
      {
        "duration": 9,
        "start_time": "2025-05-28T03:31:18.543Z"
      },
      {
        "duration": 32,
        "start_time": "2025-05-28T03:32:25.869Z"
      },
      {
        "duration": 60,
        "start_time": "2025-05-28T03:32:46.346Z"
      },
      {
        "duration": 4,
        "start_time": "2025-05-28T03:49:57.315Z"
      },
      {
        "duration": 163,
        "start_time": "2025-05-28T03:49:57.320Z"
      },
      {
        "duration": 308,
        "start_time": "2025-05-28T03:49:57.485Z"
      },
      {
        "duration": 20,
        "start_time": "2025-05-28T03:49:57.794Z"
      },
      {
        "duration": 12,
        "start_time": "2025-05-28T03:49:57.816Z"
      },
      {
        "duration": 46,
        "start_time": "2025-05-28T03:49:57.835Z"
      },
      {
        "duration": 45,
        "start_time": "2025-05-28T03:49:57.883Z"
      },
      {
        "duration": 28,
        "start_time": "2025-05-28T03:49:57.929Z"
      },
      {
        "duration": 39,
        "start_time": "2025-05-28T03:49:57.958Z"
      },
      {
        "duration": 10,
        "start_time": "2025-05-28T03:49:57.999Z"
      },
      {
        "duration": 744,
        "start_time": "2025-05-28T03:49:58.011Z"
      },
      {
        "duration": 6,
        "start_time": "2025-05-28T03:49:58.757Z"
      },
      {
        "duration": 2041,
        "start_time": "2025-05-28T03:49:58.764Z"
      },
      {
        "duration": 3,
        "start_time": "2025-05-28T03:50:00.808Z"
      },
      {
        "duration": 483,
        "start_time": "2025-05-28T03:50:00.813Z"
      },
      {
        "duration": 8,
        "start_time": "2025-05-28T03:50:01.297Z"
      },
      {
        "duration": 28,
        "start_time": "2025-05-28T03:50:01.307Z"
      },
      {
        "duration": 69,
        "start_time": "2025-05-28T03:50:01.337Z"
      },
      {
        "duration": 8,
        "start_time": "2025-05-28T03:50:01.408Z"
      },
      {
        "duration": 31,
        "start_time": "2025-05-28T03:50:01.418Z"
      },
      {
        "duration": 275,
        "start_time": "2025-05-28T03:50:01.451Z"
      },
      {
        "duration": 17,
        "start_time": "2025-05-28T03:50:01.727Z"
      },
      {
        "duration": 1939,
        "start_time": "2025-05-28T03:50:01.746Z"
      },
      {
        "duration": 1699,
        "start_time": "2025-05-28T03:50:03.686Z"
      },
      {
        "duration": 1712,
        "start_time": "2025-05-28T03:50:05.387Z"
      },
      {
        "duration": 104,
        "start_time": "2025-05-28T03:50:07.100Z"
      },
      {
        "duration": 103,
        "start_time": "2025-05-28T03:50:07.205Z"
      },
      {
        "duration": 100,
        "start_time": "2025-05-28T03:50:07.310Z"
      },
      {
        "duration": 137,
        "start_time": "2025-05-28T03:50:07.411Z"
      },
      {
        "duration": 53,
        "start_time": "2025-05-28T03:50:07.550Z"
      },
      {
        "duration": 96,
        "start_time": "2025-05-28T03:50:07.605Z"
      },
      {
        "duration": 8,
        "start_time": "2025-05-28T03:50:07.703Z"
      },
      {
        "duration": 1341,
        "start_time": "2025-05-28T20:26:54.748Z"
      },
      {
        "duration": 104,
        "start_time": "2025-05-28T20:26:56.091Z"
      },
      {
        "duration": 20,
        "start_time": "2025-05-28T20:26:56.196Z"
      },
      {
        "duration": 375,
        "start_time": "2025-05-28T20:26:56.218Z"
      },
      {
        "duration": 20,
        "start_time": "2025-05-28T20:26:56.595Z"
      },
      {
        "duration": 6,
        "start_time": "2025-05-28T20:26:56.617Z"
      },
      {
        "duration": 22,
        "start_time": "2025-05-28T20:26:56.625Z"
      },
      {
        "duration": 26,
        "start_time": "2025-05-28T20:26:56.649Z"
      },
      {
        "duration": 9,
        "start_time": "2025-05-28T20:26:56.677Z"
      },
      {
        "duration": 44,
        "start_time": "2025-05-28T20:26:56.688Z"
      },
      {
        "duration": 11,
        "start_time": "2025-05-28T20:26:56.734Z"
      },
      {
        "duration": 765,
        "start_time": "2025-05-28T20:26:56.747Z"
      },
      {
        "duration": 6,
        "start_time": "2025-05-28T20:26:57.514Z"
      },
      {
        "duration": 1993,
        "start_time": "2025-05-28T20:26:57.522Z"
      },
      {
        "duration": 3,
        "start_time": "2025-05-28T20:26:59.517Z"
      },
      {
        "duration": 447,
        "start_time": "2025-05-28T20:26:59.521Z"
      },
      {
        "duration": 9,
        "start_time": "2025-05-28T20:26:59.969Z"
      },
      {
        "duration": 3,
        "start_time": "2025-05-28T20:26:59.980Z"
      },
      {
        "duration": 45,
        "start_time": "2025-05-28T20:26:59.984Z"
      },
      {
        "duration": 35,
        "start_time": "2025-05-28T20:27:00.031Z"
      },
      {
        "duration": 17,
        "start_time": "2025-05-28T20:27:00.067Z"
      },
      {
        "duration": 257,
        "start_time": "2025-05-28T20:27:00.086Z"
      },
      {
        "duration": 18,
        "start_time": "2025-05-28T20:27:00.344Z"
      },
      {
        "duration": 1592,
        "start_time": "2025-05-28T20:27:00.364Z"
      },
      {
        "duration": 1686,
        "start_time": "2025-05-28T20:27:01.957Z"
      },
      {
        "duration": 1628,
        "start_time": "2025-05-28T20:27:03.644Z"
      },
      {
        "duration": 102,
        "start_time": "2025-05-28T20:27:05.273Z"
      },
      {
        "duration": 94,
        "start_time": "2025-05-28T20:27:05.379Z"
      },
      {
        "duration": 100,
        "start_time": "2025-05-28T20:27:05.475Z"
      },
      {
        "duration": 129,
        "start_time": "2025-05-28T20:27:05.577Z"
      },
      {
        "duration": 60,
        "start_time": "2025-05-28T20:27:05.707Z"
      },
      {
        "duration": 94,
        "start_time": "2025-05-28T20:27:05.769Z"
      },
      {
        "duration": 8,
        "start_time": "2025-05-28T20:27:05.865Z"
      },
      {
        "duration": 100,
        "start_time": "2025-05-28T21:40:45.935Z"
      },
      {
        "duration": 94,
        "start_time": "2025-05-28T21:40:51.842Z"
      },
      {
        "duration": 89,
        "start_time": "2025-05-28T21:40:54.603Z"
      }
    ],
    "toc": {
      "base_numbering": 1,
      "nav_menu": {},
      "number_sections": true,
      "sideBar": true,
      "skip_h1_title": true,
      "title_cell": "Table of Contents",
      "title_sidebar": "Contents",
      "toc_cell": false,
      "toc_position": {},
      "toc_section_display": true,
      "toc_window_display": true
    }
  },
  "nbformat_minor": 4,
  "nbformat": 4,
  "cells": [
    {
      "cell_type": "markdown",
      "source": "# Выделение групп пользователей на основе поведения",
      "metadata": {}
    },
    {
      "cell_type": "markdown",
      "source": "Цель - определить группы пользователей, у которых выше удержание в мобильном приложении \"Ненужные вещи\" и выше конверсия в целевое (\"contacts_show\") действие.\n\nЗадачи (подробнее описаны на этапе декомпозиция):\n- выгрузка данных;\n- предобработка данных;\n- анализ общего поведения пользователей;\n- сегментирование пользователей;\n- проверка статистических гипотез;\n- подготовка презентации по результатам анализа.\n\nДля анализа предоставлен датасет с двумя таблицами, которые содержат данные о идентификаторах пользователей, источниках привлечения пользователей, действия, совершенного в приложении, времени, когда действие совершено.",
      "metadata": {}
    },
    {
      "cell_type": "code",
      "source": "import pandas as pd\nfrom datetime import datetime, timedelta\nfrom matplotlib import pyplot as plt\nimport seaborn as sns\nfrom scipy import stats as st\nimport math as mth",
      "metadata": {},
      "outputs": [],
      "execution_count": 1
    },
    {
      "cell_type": "markdown",
      "source": "## Выгрузка данных",
      "metadata": {}
    },
    {
      "cell_type": "code",
      "source": "mob_sources = pd.read_csv('https://code.s3.yandex.net/datasets/mobile_sources.csv')",
      "metadata": {},
      "outputs": [],
      "execution_count": 2
    },
    {
      "cell_type": "code",
      "source": "display(mob_sources.head(10))\nprint(mob_sources.info())",
      "metadata": {},
      "outputs": [
        {
          "data": {
            "text/html": [
              "<div>\n",
              "<style scoped>\n",
              "    .dataframe tbody tr th:only-of-type {\n",
              "        vertical-align: middle;\n",
              "    }\n",
              "\n",
              "    .dataframe tbody tr th {\n",
              "        vertical-align: top;\n",
              "    }\n",
              "\n",
              "    .dataframe thead th {\n",
              "        text-align: right;\n",
              "    }\n",
              "</style>\n",
              "<table border=\"1\" class=\"dataframe\">\n",
              "  <thead>\n",
              "    <tr style=\"text-align: right;\">\n",
              "      <th></th>\n",
              "      <th>userId</th>\n",
              "      <th>source</th>\n",
              "    </tr>\n",
              "  </thead>\n",
              "  <tbody>\n",
              "    <tr>\n",
              "      <th>0</th>\n",
              "      <td>020292ab-89bc-4156-9acf-68bc2783f894</td>\n",
              "      <td>other</td>\n",
              "    </tr>\n",
              "    <tr>\n",
              "      <th>1</th>\n",
              "      <td>cf7eda61-9349-469f-ac27-e5b6f5ec475c</td>\n",
              "      <td>yandex</td>\n",
              "    </tr>\n",
              "    <tr>\n",
              "      <th>2</th>\n",
              "      <td>8c356c42-3ba9-4cb6-80b8-3f868d0192c3</td>\n",
              "      <td>yandex</td>\n",
              "    </tr>\n",
              "    <tr>\n",
              "      <th>3</th>\n",
              "      <td>d9b06b47-0f36-419b-bbb0-3533e582a6cb</td>\n",
              "      <td>other</td>\n",
              "    </tr>\n",
              "    <tr>\n",
              "      <th>4</th>\n",
              "      <td>f32e1e2a-3027-4693-b793-b7b3ff274439</td>\n",
              "      <td>google</td>\n",
              "    </tr>\n",
              "    <tr>\n",
              "      <th>5</th>\n",
              "      <td>17f6b2db-2964-4d11-89d8-7e38d2cb4750</td>\n",
              "      <td>yandex</td>\n",
              "    </tr>\n",
              "    <tr>\n",
              "      <th>6</th>\n",
              "      <td>62aa104f-592d-4ccb-8226-2ba0e719ded5</td>\n",
              "      <td>yandex</td>\n",
              "    </tr>\n",
              "    <tr>\n",
              "      <th>7</th>\n",
              "      <td>57321726-5d66-4d51-84f4-c797c35dcf2b</td>\n",
              "      <td>google</td>\n",
              "    </tr>\n",
              "    <tr>\n",
              "      <th>8</th>\n",
              "      <td>c2cf55c0-95f7-4269-896c-931d14deaab5</td>\n",
              "      <td>google</td>\n",
              "    </tr>\n",
              "    <tr>\n",
              "      <th>9</th>\n",
              "      <td>48e614d6-fe03-40f7-bf9e-4c4f61c19f64</td>\n",
              "      <td>yandex</td>\n",
              "    </tr>\n",
              "  </tbody>\n",
              "</table>\n",
              "</div>"
            ],
            "text/plain": [
              "                                 userId  source\n",
              "0  020292ab-89bc-4156-9acf-68bc2783f894   other\n",
              "1  cf7eda61-9349-469f-ac27-e5b6f5ec475c  yandex\n",
              "2  8c356c42-3ba9-4cb6-80b8-3f868d0192c3  yandex\n",
              "3  d9b06b47-0f36-419b-bbb0-3533e582a6cb   other\n",
              "4  f32e1e2a-3027-4693-b793-b7b3ff274439  google\n",
              "5  17f6b2db-2964-4d11-89d8-7e38d2cb4750  yandex\n",
              "6  62aa104f-592d-4ccb-8226-2ba0e719ded5  yandex\n",
              "7  57321726-5d66-4d51-84f4-c797c35dcf2b  google\n",
              "8  c2cf55c0-95f7-4269-896c-931d14deaab5  google\n",
              "9  48e614d6-fe03-40f7-bf9e-4c4f61c19f64  yandex"
            ]
          },
          "metadata": {},
          "output_type": "display_data"
        },
        {
          "name": "stdout",
          "output_type": "stream",
          "text": "<class 'pandas.core.frame.DataFrame'>\n,RangeIndex: 4293 entries, 0 to 4292\n,Data columns (total 2 columns):\n, #   Column  Non-Null Count  Dtype \n,---  ------  --------------  ----- \n, 0   userId  4293 non-null   object\n, 1   source  4293 non-null   object\n,dtypes: object(2)\n,memory usage: 67.2+ KB\n,None\n"
        }
      ],
      "execution_count": 3
    },
    {
      "cell_type": "markdown",
      "source": "В таблице с источником два столбца, 4293 строки. Пропусков нет.",
      "metadata": {}
    },
    {
      "cell_type": "code",
      "source": "mob_dataset = pd.read_csv('https://code.s3.yandex.net/datasets/mobile_dataset.csv')\n\ndisplay(mob_dataset.head(10))\nprint(mob_dataset.info())",
      "metadata": {},
      "outputs": [
        {
          "data": {
            "text/html": [
              "<div>\n",
              "<style scoped>\n",
              "    .dataframe tbody tr th:only-of-type {\n",
              "        vertical-align: middle;\n",
              "    }\n",
              "\n",
              "    .dataframe tbody tr th {\n",
              "        vertical-align: top;\n",
              "    }\n",
              "\n",
              "    .dataframe thead th {\n",
              "        text-align: right;\n",
              "    }\n",
              "</style>\n",
              "<table border=\"1\" class=\"dataframe\">\n",
              "  <thead>\n",
              "    <tr style=\"text-align: right;\">\n",
              "      <th></th>\n",
              "      <th>event.time</th>\n",
              "      <th>event.name</th>\n",
              "      <th>user.id</th>\n",
              "    </tr>\n",
              "  </thead>\n",
              "  <tbody>\n",
              "    <tr>\n",
              "      <th>0</th>\n",
              "      <td>2019-10-07 00:00:00.431357</td>\n",
              "      <td>advert_open</td>\n",
              "      <td>020292ab-89bc-4156-9acf-68bc2783f894</td>\n",
              "    </tr>\n",
              "    <tr>\n",
              "      <th>1</th>\n",
              "      <td>2019-10-07 00:00:01.236320</td>\n",
              "      <td>tips_show</td>\n",
              "      <td>020292ab-89bc-4156-9acf-68bc2783f894</td>\n",
              "    </tr>\n",
              "    <tr>\n",
              "      <th>2</th>\n",
              "      <td>2019-10-07 00:00:02.245341</td>\n",
              "      <td>tips_show</td>\n",
              "      <td>cf7eda61-9349-469f-ac27-e5b6f5ec475c</td>\n",
              "    </tr>\n",
              "    <tr>\n",
              "      <th>3</th>\n",
              "      <td>2019-10-07 00:00:07.039334</td>\n",
              "      <td>tips_show</td>\n",
              "      <td>020292ab-89bc-4156-9acf-68bc2783f894</td>\n",
              "    </tr>\n",
              "    <tr>\n",
              "      <th>4</th>\n",
              "      <td>2019-10-07 00:00:56.319813</td>\n",
              "      <td>advert_open</td>\n",
              "      <td>cf7eda61-9349-469f-ac27-e5b6f5ec475c</td>\n",
              "    </tr>\n",
              "    <tr>\n",
              "      <th>5</th>\n",
              "      <td>2019-10-07 00:01:19.993624</td>\n",
              "      <td>tips_show</td>\n",
              "      <td>cf7eda61-9349-469f-ac27-e5b6f5ec475c</td>\n",
              "    </tr>\n",
              "    <tr>\n",
              "      <th>6</th>\n",
              "      <td>2019-10-07 00:01:27.770232</td>\n",
              "      <td>advert_open</td>\n",
              "      <td>020292ab-89bc-4156-9acf-68bc2783f894</td>\n",
              "    </tr>\n",
              "    <tr>\n",
              "      <th>7</th>\n",
              "      <td>2019-10-07 00:01:34.804591</td>\n",
              "      <td>tips_show</td>\n",
              "      <td>020292ab-89bc-4156-9acf-68bc2783f894</td>\n",
              "    </tr>\n",
              "    <tr>\n",
              "      <th>8</th>\n",
              "      <td>2019-10-07 00:01:49.732803</td>\n",
              "      <td>advert_open</td>\n",
              "      <td>cf7eda61-9349-469f-ac27-e5b6f5ec475c</td>\n",
              "    </tr>\n",
              "    <tr>\n",
              "      <th>9</th>\n",
              "      <td>2019-10-07 00:01:54.958298</td>\n",
              "      <td>advert_open</td>\n",
              "      <td>020292ab-89bc-4156-9acf-68bc2783f894</td>\n",
              "    </tr>\n",
              "  </tbody>\n",
              "</table>\n",
              "</div>"
            ],
            "text/plain": [
              "                   event.time   event.name  \\\n",
              "0  2019-10-07 00:00:00.431357  advert_open   \n",
              "1  2019-10-07 00:00:01.236320    tips_show   \n",
              "2  2019-10-07 00:00:02.245341    tips_show   \n",
              "3  2019-10-07 00:00:07.039334    tips_show   \n",
              "4  2019-10-07 00:00:56.319813  advert_open   \n",
              "5  2019-10-07 00:01:19.993624    tips_show   \n",
              "6  2019-10-07 00:01:27.770232  advert_open   \n",
              "7  2019-10-07 00:01:34.804591    tips_show   \n",
              "8  2019-10-07 00:01:49.732803  advert_open   \n",
              "9  2019-10-07 00:01:54.958298  advert_open   \n",
              "\n",
              "                                user.id  \n",
              "0  020292ab-89bc-4156-9acf-68bc2783f894  \n",
              "1  020292ab-89bc-4156-9acf-68bc2783f894  \n",
              "2  cf7eda61-9349-469f-ac27-e5b6f5ec475c  \n",
              "3  020292ab-89bc-4156-9acf-68bc2783f894  \n",
              "4  cf7eda61-9349-469f-ac27-e5b6f5ec475c  \n",
              "5  cf7eda61-9349-469f-ac27-e5b6f5ec475c  \n",
              "6  020292ab-89bc-4156-9acf-68bc2783f894  \n",
              "7  020292ab-89bc-4156-9acf-68bc2783f894  \n",
              "8  cf7eda61-9349-469f-ac27-e5b6f5ec475c  \n",
              "9  020292ab-89bc-4156-9acf-68bc2783f894  "
            ]
          },
          "metadata": {},
          "output_type": "display_data"
        },
        {
          "name": "stdout",
          "output_type": "stream",
          "text": "<class 'pandas.core.frame.DataFrame'>\n,RangeIndex: 74197 entries, 0 to 74196\n,Data columns (total 3 columns):\n, #   Column      Non-Null Count  Dtype \n,---  ------      --------------  ----- \n, 0   event.time  74197 non-null  object\n, 1   event.name  74197 non-null  object\n, 2   user.id     74197 non-null  object\n,dtypes: object(3)\n,memory usage: 1.7+ MB\n,None\n"
        }
      ],
      "execution_count": 4
    },
    {
      "cell_type": "markdown",
      "source": "В таблице с событиями три столбца, 74197 строки. Пропусков данных нет.",
      "metadata": {}
    },
    {
      "cell_type": "markdown",
      "source": "## Предобработка данных",
      "metadata": {}
    },
    {
      "cell_type": "code",
      "source": "# Изменение типа данных для столбца с датой и временем\nmob_dataset['event.time'] = pd.to_datetime(mob_dataset['event.time'])",
      "metadata": {},
      "outputs": [],
      "execution_count": 5
    },
    {
      "cell_type": "code",
      "source": "# Изменение названий столбцов для удобства\nmob_dataset = mob_dataset.rename(columns={'event.time':'event_time', 'event.name':'event_name', 'user.id':'user_id'})\nmob_sources = mob_sources.rename(columns={'userId':'user_id'})",
      "metadata": {},
      "outputs": [],
      "execution_count": 6
    },
    {
      "cell_type": "code",
      "source": "mob_sources.duplicated().sum()",
      "metadata": {},
      "outputs": [
        {
          "data": {
            "text/plain": [
              "0"
            ]
          },
          "execution_count": 7,
          "metadata": {},
          "output_type": "execute_result"
        }
      ],
      "execution_count": 7
    },
    {
      "cell_type": "code",
      "source": "mob_dataset.duplicated().sum()",
      "metadata": {},
      "outputs": [
        {
          "data": {
            "text/plain": [
              "0"
            ]
          },
          "execution_count": 8,
          "metadata": {},
          "output_type": "execute_result"
        }
      ],
      "execution_count": 8
    },
    {
      "cell_type": "code",
      "source": "mob_dataset.loc[mob_dataset['event_name']=='show_contacts', 'event_name'] = 'contacts_show' # замена неявных дубликатов,\n                                                                                            # указанных в задании",
      "metadata": {},
      "outputs": [],
      "execution_count": 9
    },
    {
      "cell_type": "markdown",
      "source": "В таблицах не встречены явные дубликаты.",
      "metadata": {}
    },
    {
      "cell_type": "markdown",
      "source": "## Анализ общего поведения данных",
      "metadata": {}
    },
    {
      "cell_type": "markdown",
      "source": "### Расчет Retention Rate",
      "metadata": {}
    },
    {
      "cell_type": "code",
      "source": "dt = mob_dataset.sort_values(['user_id', 'event_time'])",
      "metadata": {},
      "outputs": [],
      "execution_count": 10
    },
    {
      "cell_type": "code",
      "source": "dt['event_time'] = pd.to_datetime(dt['event_time'])",
      "metadata": {},
      "outputs": [],
      "execution_count": 11
    },
    {
      "cell_type": "markdown",
      "source": "Окончанием сессии принимается действие пользователя, когда до следующего действия проходит более 30 минут. С одной стороны меньшее время указывает на более частое вовлечение пользователя в приложение, это характерно обычно для приложений социальных сетей или мессенджеров. С другой стороны - большее время характерно для других типов приложений (онлайн банк, услуги доставки еды и т.д.). За время 30 минут, если это было случайное прерывание сессии можно успеть ответить на телефонный звонок, сообщение и т.п. А уже свыше 30 минут может означать, что пользователь уже перестроил свои мысли в другом направлении, вряд ли он вернется к тому же товару спустя такое время.",
      "metadata": {}
    },
    {
      "cell_type": "code",
      "source": "# деление событий по сессиям, принято, что между сессиями более 30 минут \ndiff_etime = dt.groupby('user_id')['event_time'].diff()\nnew_session = (diff_etime.isnull()) | (diff_etime > pd.Timedelta('30Min'))\ndt['session_id'] = dt.loc[new_session, ['user_id', 'event_time']].groupby('user_id').rank(method='first').astype(int)\ndt['session_id'] = dt['session_id'].fillna(method='ffill').astype(int)",
      "metadata": {},
      "outputs": [],
      "execution_count": 12
    },
    {
      "cell_type": "code",
      "source": "# определение функции для формирования таблицы с показателями удержания до 7 дня\ndef retention_calc(data):\n    dt1 = data.sort_values('event_time')\n    dt1.event_time = dt1.event_time.dt.date\n    \n    df_cohort = dt1.groupby('user_id')['event_time'].min().reset_index().rename(columns={'event_time':'cohort_date'})\n\n    df = dt1.merge(df_cohort, on='user_id')\n    \n    df[\"days_diff\"] = (df[\"event_time\"] - df[\"cohort_date\"]).dt.days\n\n    cohort_sizes = df_cohort.groupby(\"cohort_date\")[\"user_id\"].nunique().reset_index()\n    cohort_sizes.columns = [\"cohort_date\", \"cohort_size\"]\n\n    retention_data = df.groupby([\"cohort_date\", \"days_diff\"])[\"user_id\"].nunique().reset_index()\n    retention_data = retention_data.pivot_table(\n    index=\"cohort_date\",\n    columns=\"days_diff\",\n    values=\"user_id\",\n    fill_value=0\n    )\n\n    retention_data = retention_data.merge(cohort_sizes, on=\"cohort_date\")\n\n    for day in range(1,8):\n        if day in retention_data.columns:\n            retention_data[f\"день_{day}\"] = (retention_data[day] / retention_data[\"cohort_size\"]) * 100\n        \n    retention_rate = retention_data[[\"cohort_date\", \"cohort_size\"] + [f\"день_{day}\" for day in range(1,8) if f\"день_{day}\" in retention_data.columns]]\n    \n    return retention_rate",
      "metadata": {},
      "outputs": [],
      "execution_count": 13
    },
    {
      "cell_type": "code",
      "source": "retention_rate1 = retention_calc(mob_dataset)\n\nplt.figure(figsize = (15, 6))\nsns.heatmap(\n    retention_rate1.drop(columns = ['cohort_size']).set_index(['cohort_date']),\n    annot = True, \n    fmt = '.2f',\n) \nplt.title('Тепловая карта Retention Rate до 7 дня')\nplt.ylabel('Дата старта когорты')\nplt.show()",
      "metadata": {},
      "outputs": [
        {
          "data": {
            "image/png": "[encoded data removed]",
            "text/plain": [
              "<Figure size 1080x432 with 2 Axes>"
            ]
          },
          "metadata": {
            "needs_background": "light"
          },
          "output_type": "display_data"
        }
      ],
      "execution_count": 14
    },
    {
      "cell_type": "markdown",
      "source": "По тепловой карте заметно, что в данных представлена информация о юзерах, начинавших использовать приложение с 7 октября по 3 ноября 2019 года.\n\nК седьмому дню удержание в основном превышает 5%, самое низкое для когорты, начавшейся 24 октября (4.32%), самое высокое - для когорты 21 октября (10.56%).",
      "metadata": {}
    },
    {
      "cell_type": "markdown",
      "source": "### Определние времени, проведенного в приложении пользователем",
      "metadata": {}
    },
    {
      "cell_type": "code",
      "source": "# определение функции, делящей на группы по уровню продолжительности использования приложения\ndef time_group(x):\n    if x < 0.25:\n        return 'низкая'\n    elif x < 1:\n        return 'средняя'\n    else:\n        return 'высокая'",
      "metadata": {},
      "outputs": [],
      "execution_count": 15
    },
    {
      "cell_type": "code",
      "source": "session_start = dt.groupby(['user_id', 'session_id'])['event_time'].min().reset_index().rename(columns={'event_time':'start_time'})\nsession_end = dt.groupby(['user_id', 'session_id'])['event_time'].max().reset_index().rename(columns={'event_time':'end_time'})\nsessions = session_start.merge(session_end, on=['user_id', 'session_id'])\nsessions['session_duration'] = (sessions['end_time'] - sessions['start_time'])\nfull_time = sessions.groupby(['user_id'])['session_duration'].sum().reset_index()\nfull_time['session_duration'] = round(full_time['session_duration'].dt.total_seconds() / 3600, 2)\n\nfull_time['time_group'] = full_time.session_duration.apply(time_group)\n\nfull_time",
      "metadata": {},
      "outputs": [
        {
          "data": {
            "text/html": [
              "<div>\n",
              "<style scoped>\n",
              "    .dataframe tbody tr th:only-of-type {\n",
              "        vertical-align: middle;\n",
              "    }\n",
              "\n",
              "    .dataframe tbody tr th {\n",
              "        vertical-align: top;\n",
              "    }\n",
              "\n",
              "    .dataframe thead th {\n",
              "        text-align: right;\n",
              "    }\n",
              "</style>\n",
              "<table border=\"1\" class=\"dataframe\">\n",
              "  <thead>\n",
              "    <tr style=\"text-align: right;\">\n",
              "      <th></th>\n",
              "      <th>user_id</th>\n",
              "      <th>session_duration</th>\n",
              "      <th>time_group</th>\n",
              "    </tr>\n",
              "  </thead>\n",
              "  <tbody>\n",
              "    <tr>\n",
              "      <th>0</th>\n",
              "      <td>0001b1d5-b74a-4cbf-aeb0-7df5947bf349</td>\n",
              "      <td>0.77</td>\n",
              "      <td>средняя</td>\n",
              "    </tr>\n",
              "    <tr>\n",
              "      <th>1</th>\n",
              "      <td>00157779-810c-4498-9e05-a1e9e3cedf93</td>\n",
              "      <td>3.27</td>\n",
              "      <td>высокая</td>\n",
              "    </tr>\n",
              "    <tr>\n",
              "      <th>2</th>\n",
              "      <td>00463033-5717-4bf1-91b4-09183923b9df</td>\n",
              "      <td>0.41</td>\n",
              "      <td>средняя</td>\n",
              "    </tr>\n",
              "    <tr>\n",
              "      <th>3</th>\n",
              "      <td>004690c3-5a84-4bb7-a8af-e0c8f8fca64e</td>\n",
              "      <td>1.85</td>\n",
              "      <td>высокая</td>\n",
              "    </tr>\n",
              "    <tr>\n",
              "      <th>4</th>\n",
              "      <td>00551e79-152e-4441-9cf7-565d7eb04090</td>\n",
              "      <td>0.16</td>\n",
              "      <td>низкая</td>\n",
              "    </tr>\n",
              "    <tr>\n",
              "      <th>...</th>\n",
              "      <td>...</td>\n",
              "      <td>...</td>\n",
              "      <td>...</td>\n",
              "    </tr>\n",
              "    <tr>\n",
              "      <th>4288</th>\n",
              "      <td>ffab8d8a-30bb-424a-a3ab-0b63ebbf7b07</td>\n",
              "      <td>0.82</td>\n",
              "      <td>средняя</td>\n",
              "    </tr>\n",
              "    <tr>\n",
              "      <th>4289</th>\n",
              "      <td>ffc01466-fdb1-4460-ae94-e800f52eb136</td>\n",
              "      <td>0.01</td>\n",
              "      <td>низкая</td>\n",
              "    </tr>\n",
              "    <tr>\n",
              "      <th>4290</th>\n",
              "      <td>ffcf50d9-293c-4254-8243-4890b030b238</td>\n",
              "      <td>0.02</td>\n",
              "      <td>низкая</td>\n",
              "    </tr>\n",
              "    <tr>\n",
              "      <th>4291</th>\n",
              "      <td>ffe68f10-e48e-470e-be9b-eeb93128ff1a</td>\n",
              "      <td>0.65</td>\n",
              "      <td>средняя</td>\n",
              "    </tr>\n",
              "    <tr>\n",
              "      <th>4292</th>\n",
              "      <td>fffb9e79-b927-4dbb-9b48-7fd09b23a62b</td>\n",
              "      <td>9.15</td>\n",
              "      <td>высокая</td>\n",
              "    </tr>\n",
              "  </tbody>\n",
              "</table>\n",
              "<p>4293 rows × 3 columns</p>\n",
              "</div>"
            ],
            "text/plain": [
              "                                   user_id  session_duration time_group\n",
              "0     0001b1d5-b74a-4cbf-aeb0-7df5947bf349              0.77    средняя\n",
              "1     00157779-810c-4498-9e05-a1e9e3cedf93              3.27    высокая\n",
              "2     00463033-5717-4bf1-91b4-09183923b9df              0.41    средняя\n",
              "3     004690c3-5a84-4bb7-a8af-e0c8f8fca64e              1.85    высокая\n",
              "4     00551e79-152e-4441-9cf7-565d7eb04090              0.16     низкая\n",
              "...                                    ...               ...        ...\n",
              "4288  ffab8d8a-30bb-424a-a3ab-0b63ebbf7b07              0.82    средняя\n",
              "4289  ffc01466-fdb1-4460-ae94-e800f52eb136              0.01     низкая\n",
              "4290  ffcf50d9-293c-4254-8243-4890b030b238              0.02     низкая\n",
              "4291  ffe68f10-e48e-470e-be9b-eeb93128ff1a              0.65    средняя\n",
              "4292  fffb9e79-b927-4dbb-9b48-7fd09b23a62b              9.15    высокая\n",
              "\n",
              "[4293 rows x 3 columns]"
            ]
          },
          "execution_count": 16,
          "metadata": {},
          "output_type": "execute_result"
        }
      ],
      "execution_count": 16
    },
    {
      "cell_type": "code",
      "source": "display(full_time.groupby(['time_group'])['user_id'].count().reset_index())",
      "metadata": {},
      "outputs": [
        {
          "data": {
            "text/html": [
              "<div>\n",
              "<style scoped>\n",
              "    .dataframe tbody tr th:only-of-type {\n",
              "        vertical-align: middle;\n",
              "    }\n",
              "\n",
              "    .dataframe tbody tr th {\n",
              "        vertical-align: top;\n",
              "    }\n",
              "\n",
              "    .dataframe thead th {\n",
              "        text-align: right;\n",
              "    }\n",
              "</style>\n",
              "<table border=\"1\" class=\"dataframe\">\n",
              "  <thead>\n",
              "    <tr style=\"text-align: right;\">\n",
              "      <th></th>\n",
              "      <th>time_group</th>\n",
              "      <th>user_id</th>\n",
              "    </tr>\n",
              "  </thead>\n",
              "  <tbody>\n",
              "    <tr>\n",
              "      <th>0</th>\n",
              "      <td>высокая</td>\n",
              "      <td>507</td>\n",
              "    </tr>\n",
              "    <tr>\n",
              "      <th>1</th>\n",
              "      <td>низкая</td>\n",
              "      <td>2117</td>\n",
              "    </tr>\n",
              "    <tr>\n",
              "      <th>2</th>\n",
              "      <td>средняя</td>\n",
              "      <td>1669</td>\n",
              "    </tr>\n",
              "  </tbody>\n",
              "</table>\n",
              "</div>"
            ],
            "text/plain": [
              "  time_group  user_id\n",
              "0    высокая      507\n",
              "1     низкая     2117\n",
              "2    средняя     1669"
            ]
          },
          "metadata": {},
          "output_type": "display_data"
        }
      ],
      "execution_count": 17
    },
    {
      "cell_type": "markdown",
      "source": "Принимая, что низкая продолжительность использования приложения менее 15 минут, средняя - менее 60 минут, а высокая - не менее 60 минут, получились следующие группы:\n- с низкой продолжительностью 2117 пользователей;\n- со средней продолжительностью 1669 пользователей;\n- с высокой продолжительностью 507 пользователей.",
      "metadata": {}
    },
    {
      "cell_type": "markdown",
      "source": "### Определение частоты действий пользователей",
      "metadata": {}
    },
    {
      "cell_type": "code",
      "source": "# определение функции, делящей на группы по частоте совершаемых событий\ndef ev_p_d(x):\n    if x < 5:\n        return 'низкая'\n    elif x < 10:\n        return 'средняя'\n    else:\n        return 'высокая'",
      "metadata": {},
      "outputs": [],
      "execution_count": 18
    },
    {
      "cell_type": "code",
      "source": "event_freak = dt.groupby(['user_id']).agg(event_cnt=('event_name','count'), first_event=('event_time','min'),\n                                                   last_event=('event_time','max')).reset_index()\nevent_freak['full_time'] = (event_freak.last_event - event_freak.first_event).dt.days + 1\n\nevent_freak['events_per_day'] = round(event_freak.event_cnt / event_freak.full_time, 1)\n\nevent_freak['events_per_day_group'] = event_freak['events_per_day'].apply(ev_p_d)\n\nevent_freak",
      "metadata": {},
      "outputs": [
        {
          "data": {
            "text/html": [
              "<div>\n",
              "<style scoped>\n",
              "    .dataframe tbody tr th:only-of-type {\n",
              "        vertical-align: middle;\n",
              "    }\n",
              "\n",
              "    .dataframe tbody tr th {\n",
              "        vertical-align: top;\n",
              "    }\n",
              "\n",
              "    .dataframe thead th {\n",
              "        text-align: right;\n",
              "    }\n",
              "</style>\n",
              "<table border=\"1\" class=\"dataframe\">\n",
              "  <thead>\n",
              "    <tr style=\"text-align: right;\">\n",
              "      <th></th>\n",
              "      <th>user_id</th>\n",
              "      <th>event_cnt</th>\n",
              "      <th>first_event</th>\n",
              "      <th>last_event</th>\n",
              "      <th>full_time</th>\n",
              "      <th>events_per_day</th>\n",
              "      <th>events_per_day_group</th>\n",
              "    </tr>\n",
              "  </thead>\n",
              "  <tbody>\n",
              "    <tr>\n",
              "      <th>0</th>\n",
              "      <td>0001b1d5-b74a-4cbf-aeb0-7df5947bf349</td>\n",
              "      <td>35</td>\n",
              "      <td>2019-10-07 13:39:45.989359</td>\n",
              "      <td>2019-10-22 11:30:52.807203</td>\n",
              "      <td>15</td>\n",
              "      <td>2.3</td>\n",
              "      <td>низкая</td>\n",
              "    </tr>\n",
              "    <tr>\n",
              "      <th>1</th>\n",
              "      <td>00157779-810c-4498-9e05-a1e9e3cedf93</td>\n",
              "      <td>71</td>\n",
              "      <td>2019-10-19 21:34:33.849769</td>\n",
              "      <td>2019-11-03 17:12:09.708771</td>\n",
              "      <td>15</td>\n",
              "      <td>4.7</td>\n",
              "      <td>низкая</td>\n",
              "    </tr>\n",
              "    <tr>\n",
              "      <th>2</th>\n",
              "      <td>00463033-5717-4bf1-91b4-09183923b9df</td>\n",
              "      <td>10</td>\n",
              "      <td>2019-11-01 13:54:35.385028</td>\n",
              "      <td>2019-11-01 14:19:17.860053</td>\n",
              "      <td>1</td>\n",
              "      <td>10.0</td>\n",
              "      <td>высокая</td>\n",
              "    </tr>\n",
              "    <tr>\n",
              "      <th>3</th>\n",
              "      <td>004690c3-5a84-4bb7-a8af-e0c8f8fca64e</td>\n",
              "      <td>32</td>\n",
              "      <td>2019-10-18 22:14:05.555052</td>\n",
              "      <td>2019-10-31 21:42:15.606558</td>\n",
              "      <td>13</td>\n",
              "      <td>2.5</td>\n",
              "      <td>низкая</td>\n",
              "    </tr>\n",
              "    <tr>\n",
              "      <th>4</th>\n",
              "      <td>00551e79-152e-4441-9cf7-565d7eb04090</td>\n",
              "      <td>8</td>\n",
              "      <td>2019-10-25 16:44:41.263364</td>\n",
              "      <td>2019-10-29 02:17:12.342406</td>\n",
              "      <td>4</td>\n",
              "      <td>2.0</td>\n",
              "      <td>низкая</td>\n",
              "    </tr>\n",
              "    <tr>\n",
              "      <th>...</th>\n",
              "      <td>...</td>\n",
              "      <td>...</td>\n",
              "      <td>...</td>\n",
              "      <td>...</td>\n",
              "      <td>...</td>\n",
              "      <td>...</td>\n",
              "      <td>...</td>\n",
              "    </tr>\n",
              "    <tr>\n",
              "      <th>4288</th>\n",
              "      <td>ffab8d8a-30bb-424a-a3ab-0b63ebbf7b07</td>\n",
              "      <td>17</td>\n",
              "      <td>2019-10-13 16:11:27.414960</td>\n",
              "      <td>2019-10-26 19:53:51.993545</td>\n",
              "      <td>14</td>\n",
              "      <td>1.2</td>\n",
              "      <td>низкая</td>\n",
              "    </tr>\n",
              "    <tr>\n",
              "      <th>4289</th>\n",
              "      <td>ffc01466-fdb1-4460-ae94-e800f52eb136</td>\n",
              "      <td>7</td>\n",
              "      <td>2019-10-07 20:32:49.997044</td>\n",
              "      <td>2019-10-07 20:33:42.135500</td>\n",
              "      <td>1</td>\n",
              "      <td>7.0</td>\n",
              "      <td>средняя</td>\n",
              "    </tr>\n",
              "    <tr>\n",
              "      <th>4290</th>\n",
              "      <td>ffcf50d9-293c-4254-8243-4890b030b238</td>\n",
              "      <td>2</td>\n",
              "      <td>2019-10-23 11:51:35.199237</td>\n",
              "      <td>2019-10-23 11:52:55.577369</td>\n",
              "      <td>1</td>\n",
              "      <td>2.0</td>\n",
              "      <td>низкая</td>\n",
              "    </tr>\n",
              "    <tr>\n",
              "      <th>4291</th>\n",
              "      <td>ffe68f10-e48e-470e-be9b-eeb93128ff1a</td>\n",
              "      <td>13</td>\n",
              "      <td>2019-10-21 16:39:33.867145</td>\n",
              "      <td>2019-10-28 07:17:52.646652</td>\n",
              "      <td>7</td>\n",
              "      <td>1.9</td>\n",
              "      <td>низкая</td>\n",
              "    </tr>\n",
              "    <tr>\n",
              "      <th>4292</th>\n",
              "      <td>fffb9e79-b927-4dbb-9b48-7fd09b23a62b</td>\n",
              "      <td>303</td>\n",
              "      <td>2019-10-12 00:57:21.241896</td>\n",
              "      <td>2019-11-03 16:08:25.388712</td>\n",
              "      <td>23</td>\n",
              "      <td>13.2</td>\n",
              "      <td>высокая</td>\n",
              "    </tr>\n",
              "  </tbody>\n",
              "</table>\n",
              "<p>4293 rows × 7 columns</p>\n",
              "</div>"
            ],
            "text/plain": [
              "                                   user_id  event_cnt  \\\n",
              "0     0001b1d5-b74a-4cbf-aeb0-7df5947bf349         35   \n",
              "1     00157779-810c-4498-9e05-a1e9e3cedf93         71   \n",
              "2     00463033-5717-4bf1-91b4-09183923b9df         10   \n",
              "3     004690c3-5a84-4bb7-a8af-e0c8f8fca64e         32   \n",
              "4     00551e79-152e-4441-9cf7-565d7eb04090          8   \n",
              "...                                    ...        ...   \n",
              "4288  ffab8d8a-30bb-424a-a3ab-0b63ebbf7b07         17   \n",
              "4289  ffc01466-fdb1-4460-ae94-e800f52eb136          7   \n",
              "4290  ffcf50d9-293c-4254-8243-4890b030b238          2   \n",
              "4291  ffe68f10-e48e-470e-be9b-eeb93128ff1a         13   \n",
              "4292  fffb9e79-b927-4dbb-9b48-7fd09b23a62b        303   \n",
              "\n",
              "                    first_event                 last_event  full_time  \\\n",
              "0    2019-10-07 13:39:45.989359 2019-10-22 11:30:52.807203         15   \n",
              "1    2019-10-19 21:34:33.849769 2019-11-03 17:12:09.708771         15   \n",
              "2    2019-11-01 13:54:35.385028 2019-11-01 14:19:17.860053          1   \n",
              "3    2019-10-18 22:14:05.555052 2019-10-31 21:42:15.606558         13   \n",
              "4    2019-10-25 16:44:41.263364 2019-10-29 02:17:12.342406          4   \n",
              "...                         ...                        ...        ...   \n",
              "4288 2019-10-13 16:11:27.414960 2019-10-26 19:53:51.993545         14   \n",
              "4289 2019-10-07 20:32:49.997044 2019-10-07 20:33:42.135500          1   \n",
              "4290 2019-10-23 11:51:35.199237 2019-10-23 11:52:55.577369          1   \n",
              "4291 2019-10-21 16:39:33.867145 2019-10-28 07:17:52.646652          7   \n",
              "4292 2019-10-12 00:57:21.241896 2019-11-03 16:08:25.388712         23   \n",
              "\n",
              "      events_per_day events_per_day_group  \n",
              "0                2.3               низкая  \n",
              "1                4.7               низкая  \n",
              "2               10.0              высокая  \n",
              "3                2.5               низкая  \n",
              "4                2.0               низкая  \n",
              "...              ...                  ...  \n",
              "4288             1.2               низкая  \n",
              "4289             7.0              средняя  \n",
              "4290             2.0               низкая  \n",
              "4291             1.9               низкая  \n",
              "4292            13.2              высокая  \n",
              "\n",
              "[4293 rows x 7 columns]"
            ]
          },
          "execution_count": 19,
          "metadata": {},
          "output_type": "execute_result"
        }
      ],
      "execution_count": 19
    },
    {
      "cell_type": "code",
      "source": "display(event_freak.groupby(['events_per_day_group'])['user_id'].count().reset_index())",
      "metadata": {},
      "outputs": [
        {
          "data": {
            "text/html": [
              "<div>\n",
              "<style scoped>\n",
              "    .dataframe tbody tr th:only-of-type {\n",
              "        vertical-align: middle;\n",
              "    }\n",
              "\n",
              "    .dataframe tbody tr th {\n",
              "        vertical-align: top;\n",
              "    }\n",
              "\n",
              "    .dataframe thead th {\n",
              "        text-align: right;\n",
              "    }\n",
              "</style>\n",
              "<table border=\"1\" class=\"dataframe\">\n",
              "  <thead>\n",
              "    <tr style=\"text-align: right;\">\n",
              "      <th></th>\n",
              "      <th>events_per_day_group</th>\n",
              "      <th>user_id</th>\n",
              "    </tr>\n",
              "  </thead>\n",
              "  <tbody>\n",
              "    <tr>\n",
              "      <th>0</th>\n",
              "      <td>высокая</td>\n",
              "      <td>1302</td>\n",
              "    </tr>\n",
              "    <tr>\n",
              "      <th>1</th>\n",
              "      <td>низкая</td>\n",
              "      <td>1558</td>\n",
              "    </tr>\n",
              "    <tr>\n",
              "      <th>2</th>\n",
              "      <td>средняя</td>\n",
              "      <td>1433</td>\n",
              "    </tr>\n",
              "  </tbody>\n",
              "</table>\n",
              "</div>"
            ],
            "text/plain": [
              "  events_per_day_group  user_id\n",
              "0              высокая     1302\n",
              "1               низкая     1558\n",
              "2              средняя     1433"
            ]
          },
          "metadata": {},
          "output_type": "display_data"
        }
      ],
      "execution_count": 20
    },
    {
      "cell_type": "markdown",
      "source": "Принимая, что низкая частота действий менее 5 действий, средняя - менее 10 действий, а высокая - не менее 10 действий, получились следующие группы:\n- с низкой частотой 1558 пользователей;\n- со средней частотой 1433 пользователя;\n- с высокой частотой 1302 пользователя.",
      "metadata": {}
    },
    {
      "cell_type": "markdown",
      "source": "### Определение конверсии в целевое действие (просмотр контактов)",
      "metadata": {}
    },
    {
      "cell_type": "code",
      "source": "# определение функции, рассчитывающей конверсию в целевое событие по источникам привлечения пользователей,\n# а так же общую конверсию\ndef conv_final_event(data):\n\n    user_events = data.groupby(['user_id'])['event_name'].apply(list).reset_index()\n\n    def check_conv(x):\n        return 'contacts_show' in x\n\n    user_events['user_conversion'] = user_events['event_name'].apply(check_conv)\n\n    user_events = user_events.merge(mob_sources[['user_id','source']], on='user_id', how='left')\n\n    conv_by_source = user_events.groupby('source')['user_conversion'].agg(\n        total_users='count',\n        converted_users='sum',\n        conversion_rate='mean'\n    ).reset_index()\n\n    return conv_by_source, user_events['user_conversion'].mean()",
      "metadata": {},
      "outputs": [],
      "execution_count": 21
    },
    {
      "cell_type": "code",
      "source": "display(conv_final_event(dt)[0])\nprint('Полная конверсия -', round(conv_final_event(dt)[1],2))",
      "metadata": {
        "scrolled": true
      },
      "outputs": [
        {
          "data": {
            "text/html": [
              "<div>\n",
              "<style scoped>\n",
              "    .dataframe tbody tr th:only-of-type {\n",
              "        vertical-align: middle;\n",
              "    }\n",
              "\n",
              "    .dataframe tbody tr th {\n",
              "        vertical-align: top;\n",
              "    }\n",
              "\n",
              "    .dataframe thead th {\n",
              "        text-align: right;\n",
              "    }\n",
              "</style>\n",
              "<table border=\"1\" class=\"dataframe\">\n",
              "  <thead>\n",
              "    <tr style=\"text-align: right;\">\n",
              "      <th></th>\n",
              "      <th>source</th>\n",
              "      <th>total_users</th>\n",
              "      <th>converted_users</th>\n",
              "      <th>conversion_rate</th>\n",
              "    </tr>\n",
              "  </thead>\n",
              "  <tbody>\n",
              "    <tr>\n",
              "      <th>0</th>\n",
              "      <td>google</td>\n",
              "      <td>1129</td>\n",
              "      <td>275</td>\n",
              "      <td>0.243578</td>\n",
              "    </tr>\n",
              "    <tr>\n",
              "      <th>1</th>\n",
              "      <td>other</td>\n",
              "      <td>1230</td>\n",
              "      <td>228</td>\n",
              "      <td>0.185366</td>\n",
              "    </tr>\n",
              "    <tr>\n",
              "      <th>2</th>\n",
              "      <td>yandex</td>\n",
              "      <td>1934</td>\n",
              "      <td>478</td>\n",
              "      <td>0.247156</td>\n",
              "    </tr>\n",
              "  </tbody>\n",
              "</table>\n",
              "</div>"
            ],
            "text/plain": [
              "   source  total_users  converted_users  conversion_rate\n",
              "0  google         1129              275         0.243578\n",
              "1   other         1230              228         0.185366\n",
              "2  yandex         1934              478         0.247156"
            ]
          },
          "metadata": {},
          "output_type": "display_data"
        },
        {
          "name": "stdout",
          "output_type": "stream",
          "text": "Полная конверсия - 0.23\n"
        }
      ],
      "execution_count": 22
    },
    {
      "cell_type": "markdown",
      "source": "Наиболее конвертируемые пользователи привлечены из источника \"Yandex\", конверсия около 25%. Конверсия пользователей из \"Google\" чуть меньше - около 24%. Из других источников пользователи конвертируются хуже - около 19%.",
      "metadata": {}
    },
    {
      "cell_type": "markdown",
      "source": "## Сегментирование пользователей",
      "metadata": {}
    },
    {
      "cell_type": "markdown",
      "source": "Проверка будет происходить по разделению пользователей по частоте действий в приложении. Как указывалось выше, выделены три группы: с низкой частотой (менее 5 действий в день), со средней частотой (менее 10 действий в день) и с высокой частотой (не менее 10 действий в день).\n\nЧастота совершения действий - хороший критерий для деления пользователей на группы, потому что:\n- Частота отражает вовлечённость. В теории пользователи с высокой частотой действий обычно более лояльны и склонны к конверсии;\n- Частота может быть связана с бизнес-показателями (конверсией в покупку);\n- Пользователи, которые часто производят действия в теории должны быть вовлечены в процесс и открывать приложение (удерживаться) лучше, чем те, кто редко производит действия.",
      "metadata": {}
    },
    {
      "cell_type": "markdown",
      "source": "### Определение лучших по Retention Rate",
      "metadata": {}
    },
    {
      "cell_type": "code",
      "source": "low_events = event_freak.loc[event_freak['events_per_day_group']=='низкая', ['user_id',]].reset_index()#.merge(mob_dataset[''])\nmiddle_events = event_freak.loc[event_freak['events_per_day_group']=='средняя', ['user_id',]].reset_index()\nhigh_events = event_freak.loc[event_freak['events_per_day_group']=='высокая', ['user_id',]].reset_index()",
      "metadata": {},
      "outputs": [],
      "execution_count": 23
    },
    {
      "cell_type": "code",
      "source": "low_events = low_events.merge(mob_dataset[['user_id','event_time','event_name']], on=['user_id'], how='left')\n\nretention_rate_low = retention_calc(low_events)\n\nplt.figure(figsize = (15, 6))\nsns.heatmap(\n    retention_rate_low.drop(columns = ['cohort_size']).set_index(['cohort_date']),\n    annot = True, \n    fmt = '.2f',\n) \nplt.title('Тепловая карта Retention Rate до 7 дня для когорты с низкой частотой событий')\nplt.ylabel('Дата старта когорты')\nplt.show()",
      "metadata": {},
      "outputs": [
        {
          "data": {
            "image/png": "[encoded data removed]",
            "text/plain": [
              "<Figure size 1080x432 with 2 Axes>"
            ]
          },
          "metadata": {
            "needs_background": "light"
          },
          "output_type": "display_data"
        }
      ],
      "execution_count": 24
    },
    {
      "cell_type": "code",
      "source": "middle_events = middle_events.merge(mob_dataset[['user_id','event_time','event_name']], on=['user_id'], how='left')\n\nretention_rate_middle = retention_calc(middle_events)\n\nplt.figure(figsize = (15, 6))\nsns.heatmap(\n    retention_rate_middle.drop(columns = ['cohort_size']).set_index(['cohort_date']),\n    annot = True, \n    fmt = '.2f',\n) \nplt.title('Тепловая карта Retention Rate до 7 днядля когорты со средней частотой событий')\nplt.ylabel('Дата старта когорты')\nplt.show()",
      "metadata": {},
      "outputs": [
        {
          "data": {
            "image/png": "[encoded data removed]",
            "text/plain": [
              "<Figure size 1080x432 with 2 Axes>"
            ]
          },
          "metadata": {
            "needs_background": "light"
          },
          "output_type": "display_data"
        }
      ],
      "execution_count": 25
    },
    {
      "cell_type": "code",
      "source": "high_events = high_events.merge(mob_dataset[['user_id','event_time','event_name']], on=['user_id'], how='left')\n\nretention_rate_high = retention_calc(high_events)\n\nplt.figure(figsize = (15, 6))\nsns.heatmap(\n    retention_rate_high.drop(columns = ['cohort_size']).set_index(['cohort_date']),\n    annot = True, \n    fmt = '.2f',\n) \nplt.title('Тепловая карта Retention Rate до 7 дня для когорты с высокой частотой событий')\nplt.ylabel('Дата старта когорты')\nplt.show()",
      "metadata": {},
      "outputs": [
        {
          "data": {
            "image/png": "[encoded data removed]",
            "text/plain": [
              "<Figure size 1080x432 with 2 Axes>"
            ]
          },
          "metadata": {
            "needs_background": "light"
          },
          "output_type": "display_data"
        }
      ],
      "execution_count": 26
    },
    {
      "cell_type": "markdown",
      "source": "Сравнивая тепловые карты для разных групп, можно прийти к выводу, что наиболее удерживаемые пользователи с низкой частотой действия, а наименее удерживаемые - с высокой. То есть чем меньше в день пользователь совершает действий в приложении, тем чаще в последующие дни он обращается к приложению.\n\nЭто не совпадает с предполагаемыми выводами. Нужны будут дополнительные исследования.",
      "metadata": {}
    },
    {
      "cell_type": "markdown",
      "source": "### Определение лучших по конверсии в целевое действие",
      "metadata": {}
    },
    {
      "cell_type": "code",
      "source": "display(conv_final_event(high_events)[0])\nprint('Полная конверсия когорты с высокой частотой событий -', round(conv_final_event(high_events)[1],2))",
      "metadata": {},
      "outputs": [
        {
          "data": {
            "text/html": [
              "<div>\n",
              "<style scoped>\n",
              "    .dataframe tbody tr th:only-of-type {\n",
              "        vertical-align: middle;\n",
              "    }\n",
              "\n",
              "    .dataframe tbody tr th {\n",
              "        vertical-align: top;\n",
              "    }\n",
              "\n",
              "    .dataframe thead th {\n",
              "        text-align: right;\n",
              "    }\n",
              "</style>\n",
              "<table border=\"1\" class=\"dataframe\">\n",
              "  <thead>\n",
              "    <tr style=\"text-align: right;\">\n",
              "      <th></th>\n",
              "      <th>source</th>\n",
              "      <th>total_users</th>\n",
              "      <th>converted_users</th>\n",
              "      <th>conversion_rate</th>\n",
              "    </tr>\n",
              "  </thead>\n",
              "  <tbody>\n",
              "    <tr>\n",
              "      <th>0</th>\n",
              "      <td>google</td>\n",
              "      <td>369</td>\n",
              "      <td>100</td>\n",
              "      <td>0.271003</td>\n",
              "    </tr>\n",
              "    <tr>\n",
              "      <th>1</th>\n",
              "      <td>other</td>\n",
              "      <td>346</td>\n",
              "      <td>66</td>\n",
              "      <td>0.190751</td>\n",
              "    </tr>\n",
              "    <tr>\n",
              "      <th>2</th>\n",
              "      <td>yandex</td>\n",
              "      <td>587</td>\n",
              "      <td>171</td>\n",
              "      <td>0.291312</td>\n",
              "    </tr>\n",
              "  </tbody>\n",
              "</table>\n",
              "</div>"
            ],
            "text/plain": [
              "   source  total_users  converted_users  conversion_rate\n",
              "0  google          369              100         0.271003\n",
              "1   other          346               66         0.190751\n",
              "2  yandex          587              171         0.291312"
            ]
          },
          "metadata": {},
          "output_type": "display_data"
        },
        {
          "name": "stdout",
          "output_type": "stream",
          "text": "Полная конверсия когорты с высокой частотой событий - 0.26\n"
        }
      ],
      "execution_count": 34
    },
    {
      "cell_type": "code",
      "source": "display(conv_final_event(low_events)[0])\nprint('Полная конверсия когорты с низкой частотой событий -', round(conv_final_event(low_events)[1],2))",
      "metadata": {},
      "outputs": [
        {
          "data": {
            "text/html": [
              "<div>\n",
              "<style scoped>\n",
              "    .dataframe tbody tr th:only-of-type {\n",
              "        vertical-align: middle;\n",
              "    }\n",
              "\n",
              "    .dataframe tbody tr th {\n",
              "        vertical-align: top;\n",
              "    }\n",
              "\n",
              "    .dataframe thead th {\n",
              "        text-align: right;\n",
              "    }\n",
              "</style>\n",
              "<table border=\"1\" class=\"dataframe\">\n",
              "  <thead>\n",
              "    <tr style=\"text-align: right;\">\n",
              "      <th></th>\n",
              "      <th>source</th>\n",
              "      <th>total_users</th>\n",
              "      <th>converted_users</th>\n",
              "      <th>conversion_rate</th>\n",
              "    </tr>\n",
              "  </thead>\n",
              "  <tbody>\n",
              "    <tr>\n",
              "      <th>0</th>\n",
              "      <td>google</td>\n",
              "      <td>396</td>\n",
              "      <td>101</td>\n",
              "      <td>0.255051</td>\n",
              "    </tr>\n",
              "    <tr>\n",
              "      <th>1</th>\n",
              "      <td>other</td>\n",
              "      <td>462</td>\n",
              "      <td>89</td>\n",
              "      <td>0.192641</td>\n",
              "    </tr>\n",
              "    <tr>\n",
              "      <th>2</th>\n",
              "      <td>yandex</td>\n",
              "      <td>700</td>\n",
              "      <td>171</td>\n",
              "      <td>0.244286</td>\n",
              "    </tr>\n",
              "  </tbody>\n",
              "</table>\n",
              "</div>"
            ],
            "text/plain": [
              "   source  total_users  converted_users  conversion_rate\n",
              "0  google          396              101         0.255051\n",
              "1   other          462               89         0.192641\n",
              "2  yandex          700              171         0.244286"
            ]
          },
          "metadata": {},
          "output_type": "display_data"
        },
        {
          "name": "stdout",
          "output_type": "stream",
          "text": "Полная конверсия когорты с низкой частотой событий - 0.23\n"
        }
      ],
      "execution_count": 35
    },
    {
      "cell_type": "code",
      "source": "display(conv_final_event(middle_events)[0])\nprint('Полная конверсия когорты со средней частотой событий -', round(conv_final_event(middle_events)[1],2))",
      "metadata": {},
      "outputs": [
        {
          "data": {
            "text/html": [
              "<div>\n",
              "<style scoped>\n",
              "    .dataframe tbody tr th:only-of-type {\n",
              "        vertical-align: middle;\n",
              "    }\n",
              "\n",
              "    .dataframe tbody tr th {\n",
              "        vertical-align: top;\n",
              "    }\n",
              "\n",
              "    .dataframe thead th {\n",
              "        text-align: right;\n",
              "    }\n",
              "</style>\n",
              "<table border=\"1\" class=\"dataframe\">\n",
              "  <thead>\n",
              "    <tr style=\"text-align: right;\">\n",
              "      <th></th>\n",
              "      <th>source</th>\n",
              "      <th>total_users</th>\n",
              "      <th>converted_users</th>\n",
              "      <th>conversion_rate</th>\n",
              "    </tr>\n",
              "  </thead>\n",
              "  <tbody>\n",
              "    <tr>\n",
              "      <th>0</th>\n",
              "      <td>google</td>\n",
              "      <td>364</td>\n",
              "      <td>74</td>\n",
              "      <td>0.203297</td>\n",
              "    </tr>\n",
              "    <tr>\n",
              "      <th>1</th>\n",
              "      <td>other</td>\n",
              "      <td>422</td>\n",
              "      <td>73</td>\n",
              "      <td>0.172986</td>\n",
              "    </tr>\n",
              "    <tr>\n",
              "      <th>2</th>\n",
              "      <td>yandex</td>\n",
              "      <td>647</td>\n",
              "      <td>136</td>\n",
              "      <td>0.210201</td>\n",
              "    </tr>\n",
              "  </tbody>\n",
              "</table>\n",
              "</div>"
            ],
            "text/plain": [
              "   source  total_users  converted_users  conversion_rate\n",
              "0  google          364               74         0.203297\n",
              "1   other          422               73         0.172986\n",
              "2  yandex          647              136         0.210201"
            ]
          },
          "metadata": {},
          "output_type": "display_data"
        },
        {
          "name": "stdout",
          "output_type": "stream",
          "text": "Полная конверсия когорты со средней частотой событий - 0.2\n"
        }
      ],
      "execution_count": 36
    },
    {
      "cell_type": "markdown",
      "source": "Наибольшая конверсия в целевое действие наблюдается для пользователей, которые совершают наибольшее количество действий в день - около 26%. Наименьшая конверсия - для пользователей с со средней частотой действий (от 5 до 10 в день) - около 20%.\n\nЭти результаты совпадают с предполагаемыми выводами.",
      "metadata": {}
    },
    {
      "cell_type": "markdown",
      "source": "## Проверка статистических гипотез",
      "metadata": {}
    },
    {
      "cell_type": "markdown",
      "source": "### Некоторые пользователи установили приложение по ссылке из yandex, другие — из google . Гипотеза: две эти группы демонстрируют разную конверсию в просмотры контактов",
      "metadata": {}
    },
    {
      "cell_type": "markdown",
      "source": "Нулевая гипотеза: группы пользователей, привлеченных из Google и Yandex, демонстрируют одинаковую конверсию в просмотры контактов. Альтернативная гипотеза: пользователи, привлеченные из разных источников, демонстрируют различную конверсию в просмотры контактов.",
      "metadata": {}
    },
    {
      "cell_type": "code",
      "source": "hip_1 = conv_final_event(dt)[0]\nhip_1 = hip_1[hip_1['source'].isin(['google','yandex'])]\n\nn_google = hip_1.loc[hip_1['source']=='google', ['total_users']].values[0]\nconv_google = hip_1.loc[hip_1['source']=='google', ['converted_users']].values[0]\np_google = hip_1.loc[hip_1['source']=='google', ['conversion_rate']].values[0]\n\nn_yandex = hip_1.loc[hip_1['source']=='yandex', ['total_users']].values[0]\nconv_yandex = hip_1.loc[hip_1['source']=='yandex', ['converted_users']].values[0]\np_yandex = hip_1.loc[hip_1['source']=='yandex', ['conversion_rate']].values[0]\n\np_combined = (conv_google + conv_yandex)/(n_google+n_yandex)\n\nz_value = (p_google-p_yandex)/mth.sqrt(p_combined * (1-p_combined) * (1/n_google + 1/n_yandex))\n\ndistr = st.norm(0,1)\n\np_value = (1 - distr.cdf(abs(z_value))) * 2\n\nprint('p-value:', round(*p_value, 3))\n\nif p_value < 0.05:\n    print('Группы из разных источников демонстрируют разную конверсию')\nelse:\n    print('Группы из разных источников демонстрируют схожую конверсию')",
      "metadata": {
        "scrolled": true
      },
      "outputs": [
        {
          "name": "stdout",
          "output_type": "stream",
          "text": "p-value: 0.824\n,Группы из разных источников демонстрируют схожую конверсию\n"
        }
      ],
      "execution_count": 30
    },
    {
      "cell_type": "markdown",
      "source": "### H₀: Величина коверсии в целевое действие не зависит от времени сессии (утро/вечер). H₁:  Величина коверсии в целевое действие выше в вечерние сессии, чем в утренние",
      "metadata": {}
    },
    {
      "cell_type": "markdown",
      "source": "За утро примем интервал суток от 4:00 до 10:00, а вечер - с 18:00 до 24:00.",
      "metadata": {}
    },
    {
      "cell_type": "code",
      "source": "mor_ev_ses = dt.groupby(['user_id','session_id'])['event_time'].agg(start_ses='min', finish_ses='max',).reset_index()\n\nmorning_sessions = mor_ev_ses[(mor_ev_ses['start_ses'].dt.hour >= 4) & (mor_ev_ses['finish_ses'].dt.hour < 10)].merge(dt[['user_id','session_id','event_name']],on=['user_id','session_id'],how='left')\n\nevening_sessions = mor_ev_ses[(mor_ev_ses['start_ses'].dt.hour >= 18)].merge(dt[['user_id','session_id','event_name']],on=['user_id','session_id'],how='left')",
      "metadata": {},
      "outputs": [],
      "execution_count": 31
    },
    {
      "cell_type": "code",
      "source": "conv_morning = conv_final_event(morning_sessions)[0]\nconv_evening = conv_final_event(evening_sessions)[0]",
      "metadata": {},
      "outputs": [],
      "execution_count": 32
    },
    {
      "cell_type": "code",
      "source": "n_morning = conv_morning['total_users'].sum()\nconverted_morning = conv_morning['converted_users'].sum()\np_morning = converted_morning / n_morning\n\nn_evening = conv_evening['total_users'].sum()\nconverted_evening = conv_evening['converted_users'].sum()\np_evening = converted_evening / n_evening\n\np_combined = (converted_morning + converted_evening)/(n_morning+n_evening)\n\nz_value = (p_morning-p_evening)/mth.sqrt(p_combined * (1-p_combined) * (1/n_morning + 1/n_evening))\n\ndistr = st.norm(0,1)\n\np_value = (1 - distr.cdf(abs(z_value))) * 2\n\nprint('p-value:', round(p_value, 3))\n\nif p_value < 0.05:\n    print('Конверсии утренних и вечерних сессий различаются')\n    print('Конверсия утром -', round(p_morning,3), '\\nКонверсия вечером -', round(p_evening,3))\nelse:\n    print('Конверсии утренних и вечерних сессий одинаковые')",
      "metadata": {},
      "outputs": [
        {
          "name": "stdout",
          "output_type": "stream",
          "text": "p-value: 0.033\n,Конверсии утренних и вечерних сессий различаются\n,Конверсия утром - 0.149 \n,Конверсия вечером - 0.184\n"
        }
      ],
      "execution_count": 33
    },
    {
      "cell_type": "markdown",
      "source": "Конверсия в целевое действие, наблюдаемая в вечерние сессии, выше, чем в утренние сессии. Пользователям по вечерам более интересно искать и интересоваться ненужными вещами.",
      "metadata": {}
    },
    {
      "cell_type": "markdown",
      "source": "## Выводы\n\nБыли изучены данные о действиях пользователей в мобильном приложении \"Ненужные вещи\". Определено, что показатель удержания на седьмой день после начала использования почти для всех когорт превышает 5%. Конверсии пользователей в целевое действие (contacts_show), привлеченных из Google и Yandex, примерно равны (24-25%), из других источников ниже (около 19%). \n\nИсследуя удержание пользователей и конверсию в целевое действие групп, разделенных по частоте совершения событий, констатируем, что удерживается лучше группа, у которой частота совершения действий низкая, а конверсия в целевое действие выше у группы с высокой частотой действия.\n\nПроверяя гипотезу о том, что две группы пользователей, привлеченных из Google и Yandex, демонстрируют разную конверсию в просмотры контактов, приходим к выводу, что гипотеза не верна, конверсии схожи.\n\nПроверяя другую гипотезу, что величина коверсии в целевое действие не зависит от времени сессии (утро/вечер), пришли к выводу, что гипотеза не верна, конверсии разные. Конверсия в вечерние сессии выше, чем в утренние.\n\nВозможные рекомендации:\n- обратить внимание на длительность использования мобильного приложения юзерами. С чем может быть связана такая разница между группами пользователей с высокой длительностью и низкой длительностью;\n- обратить внимание на группы пользователей, поделенные по частоте совершения действий. С чем может быть связано то, что наиболее активные пользователи удерживаются хуже, чем те, что совершают действия в приложении реже. Либо юзеры быстро находят то, что их интересует, либо их со временем перестает привлекать приложение. Возможно необходимо настроить push-уведомления, чтобы пользователи заходили чаще;\n- чтобы улучшить конверсию в утреннее время, нужно внедрить какие-то алгоритмы подбора товаров, которые могут быть интересны людям утром, на что они сами не обращают внимание, это может улучшить показатели конверсии.",
      "metadata": {}
    },
    {
      "cell_type": "code",
      "source": "",
      "metadata": {
        "trusted": true
      },
      "outputs": [],
      "execution_count": null
    }
  ]
}